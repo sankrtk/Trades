{
 "cells": [
  {
   "cell_type": "code",
   "execution_count": 1,
   "metadata": {},
   "outputs": [],
   "source": [
    "# ! pip install psycopg2"
   ]
  },
  {
   "cell_type": "code",
   "execution_count": 3,
   "metadata": {},
   "outputs": [],
   "source": [
    "import pandas as pd\n",
    "import numpy as np"
   ]
  },
  {
   "cell_type": "code",
   "execution_count": 4,
   "metadata": {},
   "outputs": [],
   "source": [
    "import psycopg2\n",
    "import matplotlib.pyplot as plt\n",
    "import seaborn as sns"
   ]
  },
  {
   "cell_type": "markdown",
   "metadata": {},
   "source": [
    "# Load Data"
   ]
  },
  {
   "cell_type": "code",
   "execution_count": 6,
   "metadata": {},
   "outputs": [],
   "source": [
    "conn = psycopg2.connect(\n",
    "    host=\"technical-test-1.cgajoruzs0oh.ap-southeast-2.rds.amazonaws.com\",\n",
    "    user=\"candidate\",\n",
    "    password=\"NW337AkNQH76veGc\",\n",
    "    port=5432,\n",
    "    database=\"technical_test\")"
   ]
  },
  {
   "cell_type": "code",
   "execution_count": 7,
   "metadata": {},
   "outputs": [],
   "source": [
    "cursor = conn.cursor()"
   ]
  },
  {
   "cell_type": "code",
   "execution_count": 5,
   "metadata": {},
   "outputs": [],
   "source": [
    "cursor.execute(\"SELECT * from trades\")"
   ]
  },
  {
   "cell_type": "code",
   "execution_count": 6,
   "metadata": {},
   "outputs": [],
   "source": [
    "trades = cursor.fetchall()"
   ]
  },
  {
   "cell_type": "code",
   "execution_count": 7,
   "metadata": {},
   "outputs": [],
   "source": [
    "trades = pd.DataFrame(trades)"
   ]
  },
  {
   "cell_type": "code",
   "execution_count": 8,
   "metadata": {},
   "outputs": [
    {
     "data": {
      "text/html": [
       "<div>\n",
       "<style scoped>\n",
       "    .dataframe tbody tr th:only-of-type {\n",
       "        vertical-align: middle;\n",
       "    }\n",
       "\n",
       "    .dataframe tbody tr th {\n",
       "        vertical-align: top;\n",
       "    }\n",
       "\n",
       "    .dataframe thead th {\n",
       "        text-align: right;\n",
       "    }\n",
       "</style>\n",
       "<table border=\"1\" class=\"dataframe\">\n",
       "  <thead>\n",
       "    <tr style=\"text-align: right;\">\n",
       "      <th></th>\n",
       "      <th>0</th>\n",
       "      <th>1</th>\n",
       "      <th>2</th>\n",
       "      <th>3</th>\n",
       "      <th>4</th>\n",
       "      <th>5</th>\n",
       "      <th>6</th>\n",
       "      <th>7</th>\n",
       "      <th>8</th>\n",
       "      <th>9</th>\n",
       "      <th>10</th>\n",
       "    </tr>\n",
       "  </thead>\n",
       "  <tbody>\n",
       "    <tr>\n",
       "      <th>0</th>\n",
       "      <td>0DF500A57244E5B1670277767BEBB554</td>\n",
       "      <td>B321DC57F3B410507B986DD8962F8B1C</td>\n",
       "      <td>2F1CA40D76D7E6165DBA3924CE0D3B5C</td>\n",
       "      <td>EURUSD</td>\n",
       "      <td>5</td>\n",
       "      <td>1</td>\n",
       "      <td>5</td>\n",
       "      <td>2020-08-19 12:19:11</td>\n",
       "      <td>1.19459</td>\n",
       "      <td>2020-08-19 12:48:09</td>\n",
       "      <td>100000.0</td>\n",
       "    </tr>\n",
       "    <tr>\n",
       "      <th>1</th>\n",
       "      <td>6D66E192834605522190E51BF226FF5B</td>\n",
       "      <td>F68DA930EE1129D94EDFA02EBAF9E7B4</td>\n",
       "      <td>2F1CA40D76D7E6165DBA3924CE0D3B5C</td>\n",
       "      <td>XAUUSD</td>\n",
       "      <td>2</td>\n",
       "      <td>1</td>\n",
       "      <td>1</td>\n",
       "      <td>2020-08-28 03:09:02</td>\n",
       "      <td>1925.48000</td>\n",
       "      <td>2020-08-28 06:03:45</td>\n",
       "      <td>100.0</td>\n",
       "    </tr>\n",
       "    <tr>\n",
       "      <th>2</th>\n",
       "      <td>04852EC1A7D9FB8A291A24DDCE8C62B9</td>\n",
       "      <td>E351B480079ADEC7F6E6BE3ACEEA6EDF</td>\n",
       "      <td>2F1CA40D76D7E6165DBA3924CE0D3B5C</td>\n",
       "      <td>EURGBP</td>\n",
       "      <td>5</td>\n",
       "      <td>0</td>\n",
       "      <td>10</td>\n",
       "      <td>2020-08-25 13:47:34</td>\n",
       "      <td>0.90157</td>\n",
       "      <td>2020-09-08 12:20:43</td>\n",
       "      <td>100000.0</td>\n",
       "    </tr>\n",
       "    <tr>\n",
       "      <th>3</th>\n",
       "      <td>E62BE617269467931F2239C2771605C2</td>\n",
       "      <td>363723A73A926A7434E815F2F1D5ED61</td>\n",
       "      <td>2F1CA40D76D7E6165DBA3924CE0D3B5C</td>\n",
       "      <td>XAUUSD</td>\n",
       "      <td>2</td>\n",
       "      <td>1</td>\n",
       "      <td>10</td>\n",
       "      <td>2020-08-28 02:46:57</td>\n",
       "      <td>1926.68000</td>\n",
       "      <td>2020-08-28 02:51:13</td>\n",
       "      <td>100.0</td>\n",
       "    </tr>\n",
       "    <tr>\n",
       "      <th>4</th>\n",
       "      <td>54D2B4C5ECAE5FBC316524329846F81E</td>\n",
       "      <td>9CD4110328DA4CD71FFE0BE486D51094</td>\n",
       "      <td>2F1CA40D76D7E6165DBA3924CE0D3B5C</td>\n",
       "      <td>XAUUSD</td>\n",
       "      <td>2</td>\n",
       "      <td>1</td>\n",
       "      <td>85</td>\n",
       "      <td>2020-08-11 09:27:28</td>\n",
       "      <td>1999.12000</td>\n",
       "      <td>2020-08-11 09:27:54</td>\n",
       "      <td>100.0</td>\n",
       "    </tr>\n",
       "  </tbody>\n",
       "</table>\n",
       "</div>"
      ],
      "text/plain": [
       "                                 0                                 1   \\\n",
       "0  0DF500A57244E5B1670277767BEBB554  B321DC57F3B410507B986DD8962F8B1C   \n",
       "1  6D66E192834605522190E51BF226FF5B  F68DA930EE1129D94EDFA02EBAF9E7B4   \n",
       "2  04852EC1A7D9FB8A291A24DDCE8C62B9  E351B480079ADEC7F6E6BE3ACEEA6EDF   \n",
       "3  E62BE617269467931F2239C2771605C2  363723A73A926A7434E815F2F1D5ED61   \n",
       "4  54D2B4C5ECAE5FBC316524329846F81E  9CD4110328DA4CD71FFE0BE486D51094   \n",
       "\n",
       "                                 2       3   4   5   6                   7   \\\n",
       "0  2F1CA40D76D7E6165DBA3924CE0D3B5C  EURUSD   5   1   5 2020-08-19 12:19:11   \n",
       "1  2F1CA40D76D7E6165DBA3924CE0D3B5C  XAUUSD   2   1   1 2020-08-28 03:09:02   \n",
       "2  2F1CA40D76D7E6165DBA3924CE0D3B5C  EURGBP   5   0  10 2020-08-25 13:47:34   \n",
       "3  2F1CA40D76D7E6165DBA3924CE0D3B5C  XAUUSD   2   1  10 2020-08-28 02:46:57   \n",
       "4  2F1CA40D76D7E6165DBA3924CE0D3B5C  XAUUSD   2   1  85 2020-08-11 09:27:28   \n",
       "\n",
       "           8                   9         10  \n",
       "0     1.19459 2020-08-19 12:48:09  100000.0  \n",
       "1  1925.48000 2020-08-28 06:03:45     100.0  \n",
       "2     0.90157 2020-09-08 12:20:43  100000.0  \n",
       "3  1926.68000 2020-08-28 02:51:13     100.0  \n",
       "4  1999.12000 2020-08-11 09:27:54     100.0  "
      ]
     },
     "execution_count": 8,
     "metadata": {},
     "output_type": "execute_result"
    }
   ],
   "source": [
    "trades.head()"
   ]
  },
  {
   "cell_type": "code",
   "execution_count": 9,
   "metadata": {},
   "outputs": [
    {
     "data": {
      "text/plain": [
       "RangeIndex(start=0, stop=11, step=1)"
      ]
     },
     "execution_count": 9,
     "metadata": {},
     "output_type": "execute_result"
    }
   ],
   "source": [
    "trades.columns"
   ]
  },
  {
   "cell_type": "code",
   "execution_count": 8,
   "metadata": {},
   "outputs": [],
   "source": [
    "cursor.execute(\"SELECT * from users\")"
   ]
  },
  {
   "cell_type": "code",
   "execution_count": 9,
   "metadata": {},
   "outputs": [],
   "source": [
    "users = cursor.fetchall()"
   ]
  },
  {
   "cell_type": "code",
   "execution_count": 10,
   "metadata": {},
   "outputs": [],
   "source": [
    "users = pd.DataFrame(users)"
   ]
  },
  {
   "cell_type": "code",
   "execution_count": 12,
   "metadata": {},
   "outputs": [
    {
     "data": {
      "text/html": [
       "<div>\n",
       "<style scoped>\n",
       "    .dataframe tbody tr th:only-of-type {\n",
       "        vertical-align: middle;\n",
       "    }\n",
       "\n",
       "    .dataframe tbody tr th {\n",
       "        vertical-align: top;\n",
       "    }\n",
       "\n",
       "    .dataframe thead th {\n",
       "        text-align: right;\n",
       "    }\n",
       "</style>\n",
       "<table border=\"1\" class=\"dataframe\">\n",
       "  <thead>\n",
       "    <tr style=\"text-align: right;\">\n",
       "      <th></th>\n",
       "      <th>0</th>\n",
       "      <th>1</th>\n",
       "      <th>2</th>\n",
       "      <th>3</th>\n",
       "      <th>4</th>\n",
       "    </tr>\n",
       "  </thead>\n",
       "  <tbody>\n",
       "    <tr>\n",
       "      <th>0</th>\n",
       "      <td>03A15F382AF3D505592CA69EFD4DC431</td>\n",
       "      <td>76791A893BDB9A68E8EE44898D581A60</td>\n",
       "      <td>AE54A5C026F31ADA088992587D92CB3A</td>\n",
       "      <td>USD</td>\n",
       "      <td>1</td>\n",
       "    </tr>\n",
       "    <tr>\n",
       "      <th>1</th>\n",
       "      <td>F8ADF5FF9840712CE2AF7FA9EA2A3FA7</td>\n",
       "      <td>76791A893BDB9A68E8EE44898D581A60</td>\n",
       "      <td>AE54A5C026F31ADA088992587D92CB3A</td>\n",
       "      <td>USD</td>\n",
       "      <td>1</td>\n",
       "    </tr>\n",
       "    <tr>\n",
       "      <th>2</th>\n",
       "      <td>B78CD788AB20A5D61CB13BD5389CABB3</td>\n",
       "      <td>76791A893BDB9A68E8EE44898D581A60</td>\n",
       "      <td>AE54A5C026F31ADA088992587D92CB3A</td>\n",
       "      <td>USD</td>\n",
       "      <td>1</td>\n",
       "    </tr>\n",
       "    <tr>\n",
       "      <th>3</th>\n",
       "      <td>DEFB729116227EF8582BFEC65F998489</td>\n",
       "      <td>76791A893BDB9A68E8EE44898D581A60</td>\n",
       "      <td>103357E3E40A9C0E4E9D36110F7BBC7A</td>\n",
       "      <td>USD</td>\n",
       "      <td>1</td>\n",
       "    </tr>\n",
       "    <tr>\n",
       "      <th>4</th>\n",
       "      <td>9EAD9A73AA6C93823C56BB8C2E798B45</td>\n",
       "      <td>76791A893BDB9A68E8EE44898D581A60</td>\n",
       "      <td>AE54A5C026F31ADA088992587D92CB3A</td>\n",
       "      <td>USD</td>\n",
       "      <td>1</td>\n",
       "    </tr>\n",
       "  </tbody>\n",
       "</table>\n",
       "</div>"
      ],
      "text/plain": [
       "                                  0                                 1  \\\n",
       "0  03A15F382AF3D505592CA69EFD4DC431  76791A893BDB9A68E8EE44898D581A60   \n",
       "1  F8ADF5FF9840712CE2AF7FA9EA2A3FA7  76791A893BDB9A68E8EE44898D581A60   \n",
       "2  B78CD788AB20A5D61CB13BD5389CABB3  76791A893BDB9A68E8EE44898D581A60   \n",
       "3  DEFB729116227EF8582BFEC65F998489  76791A893BDB9A68E8EE44898D581A60   \n",
       "4  9EAD9A73AA6C93823C56BB8C2E798B45  76791A893BDB9A68E8EE44898D581A60   \n",
       "\n",
       "                                  2    3  4  \n",
       "0  AE54A5C026F31ADA088992587D92CB3A  USD  1  \n",
       "1  AE54A5C026F31ADA088992587D92CB3A  USD  1  \n",
       "2  AE54A5C026F31ADA088992587D92CB3A  USD  1  \n",
       "3  103357E3E40A9C0E4E9D36110F7BBC7A  USD  1  \n",
       "4  AE54A5C026F31ADA088992587D92CB3A  USD  1  "
      ]
     },
     "execution_count": 12,
     "metadata": {},
     "output_type": "execute_result"
    }
   ],
   "source": [
    "users.head()"
   ]
  },
  {
   "cell_type": "markdown",
   "metadata": {},
   "source": [
    "# EDA"
   ]
  },
  {
   "cell_type": "code",
   "execution_count": 13,
   "metadata": {},
   "outputs": [
    {
     "data": {
      "text/plain": [
       "((100000, 11), (1000, 5))"
      ]
     },
     "execution_count": 13,
     "metadata": {},
     "output_type": "execute_result"
    }
   ],
   "source": [
    "trades.shape, users.shape"
   ]
  },
  {
   "cell_type": "code",
   "execution_count": 14,
   "metadata": {},
   "outputs": [
    {
     "data": {
      "text/plain": [
       "0       5142\n",
       "1     100000\n",
       "2          3\n",
       "3         71\n",
       "4          6\n",
       "5          2\n",
       "6        343\n",
       "7      86314\n",
       "8      35950\n",
       "9      81056\n",
       "10         5\n",
       "dtype: int64"
      ]
     },
     "execution_count": 14,
     "metadata": {},
     "output_type": "execute_result"
    }
   ],
   "source": [
    "trades.nunique()"
   ]
  },
  {
   "cell_type": "code",
   "execution_count": 15,
   "metadata": {},
   "outputs": [
    {
     "data": {
      "text/plain": [
       "0    666\n",
       "1      3\n",
       "2     19\n",
       "3      4\n",
       "4      2\n",
       "dtype: int64"
      ]
     },
     "execution_count": 15,
     "metadata": {},
     "output_type": "execute_result"
    }
   ],
   "source": [
    "users.nunique()"
   ]
  },
  {
   "cell_type": "code",
   "execution_count": 25,
   "metadata": {},
   "outputs": [
    {
     "data": {
      "text/plain": [
       "2F1CA40D76D7E6165DBA3924CE0D3B5C    81064\n",
       "3D1F7E00251C43107EF39F55300781DB    18365\n",
       "54203B42716FE7C40138AE6C4913EBBC      571\n",
       "Name: 2, dtype: int64"
      ]
     },
     "execution_count": 25,
     "metadata": {},
     "output_type": "execute_result"
    }
   ],
   "source": [
    "trades[2].value_counts()"
   ]
  },
  {
   "cell_type": "code",
   "execution_count": 26,
   "metadata": {},
   "outputs": [
    {
     "data": {
      "text/plain": [
       "76791A893BDB9A68E8EE44898D581A60    823\n",
       "3D1F7E00251C43107EF39F55300781DB    174\n",
       "54203B42716FE7C40138AE6C4913EBBC      3\n",
       "Name: 1, dtype: int64"
      ]
     },
     "execution_count": 26,
     "metadata": {},
     "output_type": "execute_result"
    }
   ],
   "source": [
    "users[1].value_counts()"
   ]
  },
  {
   "cell_type": "markdown",
   "metadata": {},
   "source": [
    "#### Checking for common columns in both tables"
   ]
  },
  {
   "cell_type": "code",
   "execution_count": 11,
   "metadata": {},
   "outputs": [],
   "source": [
    "trades_0 = pd.DataFrame(trades[0].unique())\n",
    "trades_1 = pd.DataFrame(trades[1].unique())\n",
    "trades_2 = pd.DataFrame(trades[2].unique())\n",
    "\n",
    "users_0 = pd.DataFrame(users[0].unique())\n",
    "users_1 = pd.DataFrame(users[1].unique())\n",
    "users_2 = pd.DataFrame(users[2].unique())"
   ]
  },
  {
   "cell_type": "code",
   "execution_count": 17,
   "metadata": {},
   "outputs": [
    {
     "data": {
      "text/plain": [
       "((5142, 1), (100000, 1), (3, 1), (666, 1), (3, 1), (19, 1))"
      ]
     },
     "execution_count": 17,
     "metadata": {},
     "output_type": "execute_result"
    }
   ],
   "source": [
    "trades_0.shape,trades_1.shape,trades_2.shape,users_0.shape,users_1.shape,users_2.shape"
   ]
  },
  {
   "cell_type": "code",
   "execution_count": 12,
   "metadata": {},
   "outputs": [
    {
     "name": "stdout",
     "output_type": "stream",
     "text": [
      "0    116\n",
      "dtype: int64\n",
      "0    0\n",
      "dtype: int64\n",
      "0    0\n",
      "dtype: int64\n",
      "0    0\n",
      "dtype: int64\n",
      "0    0\n",
      "dtype: int64\n",
      "0    0\n",
      "dtype: int64\n",
      "0    0\n",
      "dtype: int64\n",
      "0    2\n",
      "dtype: int64\n",
      "0    0\n",
      "dtype: int64\n"
     ]
    }
   ],
   "source": [
    "# trades_0.join(users_0).count()\n",
    "print(pd.merge(trades_0, users_0, on=0).count())\n",
    "print(pd.merge(trades_0, users_1, on=0).count())\n",
    "print(pd.merge(trades_0, users_2, on=0).count())\n",
    "print(pd.merge(trades_1, users_0, on=0).count())\n",
    "print(pd.merge(trades_1, users_1, on=0).count())\n",
    "print(pd.merge(trades_1, users_2, on=0).count())\n",
    "print(pd.merge(trades_2, users_0, on=0).count())\n",
    "print(pd.merge(trades_2, users_1, on=0).count())\n",
    "print(pd.merge(trades_2, users_2, on=0).count())"
   ]
  },
  {
   "cell_type": "code",
   "execution_count": 16,
   "metadata": {},
   "outputs": [],
   "source": [
    "trades.columns =['login_hash', 'ticket_hash', 'server_hash', 'symbol','digits','cmd','volume','open_time','open_price',\n",
    "                'close_time','contractsize']\n",
    "users.columns = ['login_hash','server_hash','country_hash','currency','enable']"
   ]
  },
  {
   "cell_type": "code",
   "execution_count": 23,
   "metadata": {},
   "outputs": [
    {
     "data": {
      "text/html": [
       "<div>\n",
       "<style scoped>\n",
       "    .dataframe tbody tr th:only-of-type {\n",
       "        vertical-align: middle;\n",
       "    }\n",
       "\n",
       "    .dataframe tbody tr th {\n",
       "        vertical-align: top;\n",
       "    }\n",
       "\n",
       "    .dataframe thead th {\n",
       "        text-align: right;\n",
       "    }\n",
       "</style>\n",
       "<table border=\"1\" class=\"dataframe\">\n",
       "  <thead>\n",
       "    <tr style=\"text-align: right;\">\n",
       "      <th></th>\n",
       "      <th>login_hash</th>\n",
       "      <th>ticket_hash</th>\n",
       "      <th>server_hash</th>\n",
       "      <th>symbol</th>\n",
       "      <th>digits</th>\n",
       "      <th>cmd</th>\n",
       "      <th>volume</th>\n",
       "      <th>open_time</th>\n",
       "      <th>open_price</th>\n",
       "      <th>close_time</th>\n",
       "      <th>contractsize</th>\n",
       "    </tr>\n",
       "  </thead>\n",
       "  <tbody>\n",
       "    <tr>\n",
       "      <th>0</th>\n",
       "      <td>0DF500A57244E5B1670277767BEBB554</td>\n",
       "      <td>B321DC57F3B410507B986DD8962F8B1C</td>\n",
       "      <td>2F1CA40D76D7E6165DBA3924CE0D3B5C</td>\n",
       "      <td>EURUSD</td>\n",
       "      <td>5</td>\n",
       "      <td>1</td>\n",
       "      <td>5</td>\n",
       "      <td>2020-08-19 12:19:11</td>\n",
       "      <td>1.19459</td>\n",
       "      <td>2020-08-19 12:48:09</td>\n",
       "      <td>100000.0</td>\n",
       "    </tr>\n",
       "    <tr>\n",
       "      <th>1</th>\n",
       "      <td>6D66E192834605522190E51BF226FF5B</td>\n",
       "      <td>F68DA930EE1129D94EDFA02EBAF9E7B4</td>\n",
       "      <td>2F1CA40D76D7E6165DBA3924CE0D3B5C</td>\n",
       "      <td>XAUUSD</td>\n",
       "      <td>2</td>\n",
       "      <td>1</td>\n",
       "      <td>1</td>\n",
       "      <td>2020-08-28 03:09:02</td>\n",
       "      <td>1925.48000</td>\n",
       "      <td>2020-08-28 06:03:45</td>\n",
       "      <td>100.0</td>\n",
       "    </tr>\n",
       "    <tr>\n",
       "      <th>2</th>\n",
       "      <td>04852EC1A7D9FB8A291A24DDCE8C62B9</td>\n",
       "      <td>E351B480079ADEC7F6E6BE3ACEEA6EDF</td>\n",
       "      <td>2F1CA40D76D7E6165DBA3924CE0D3B5C</td>\n",
       "      <td>EURGBP</td>\n",
       "      <td>5</td>\n",
       "      <td>0</td>\n",
       "      <td>10</td>\n",
       "      <td>2020-08-25 13:47:34</td>\n",
       "      <td>0.90157</td>\n",
       "      <td>2020-09-08 12:20:43</td>\n",
       "      <td>100000.0</td>\n",
       "    </tr>\n",
       "    <tr>\n",
       "      <th>3</th>\n",
       "      <td>E62BE617269467931F2239C2771605C2</td>\n",
       "      <td>363723A73A926A7434E815F2F1D5ED61</td>\n",
       "      <td>2F1CA40D76D7E6165DBA3924CE0D3B5C</td>\n",
       "      <td>XAUUSD</td>\n",
       "      <td>2</td>\n",
       "      <td>1</td>\n",
       "      <td>10</td>\n",
       "      <td>2020-08-28 02:46:57</td>\n",
       "      <td>1926.68000</td>\n",
       "      <td>2020-08-28 02:51:13</td>\n",
       "      <td>100.0</td>\n",
       "    </tr>\n",
       "    <tr>\n",
       "      <th>4</th>\n",
       "      <td>54D2B4C5ECAE5FBC316524329846F81E</td>\n",
       "      <td>9CD4110328DA4CD71FFE0BE486D51094</td>\n",
       "      <td>2F1CA40D76D7E6165DBA3924CE0D3B5C</td>\n",
       "      <td>XAUUSD</td>\n",
       "      <td>2</td>\n",
       "      <td>1</td>\n",
       "      <td>85</td>\n",
       "      <td>2020-08-11 09:27:28</td>\n",
       "      <td>1999.12000</td>\n",
       "      <td>2020-08-11 09:27:54</td>\n",
       "      <td>100.0</td>\n",
       "    </tr>\n",
       "  </tbody>\n",
       "</table>\n",
       "</div>"
      ],
      "text/plain": [
       "                         login_hash                       ticket_hash  \\\n",
       "0  0DF500A57244E5B1670277767BEBB554  B321DC57F3B410507B986DD8962F8B1C   \n",
       "1  6D66E192834605522190E51BF226FF5B  F68DA930EE1129D94EDFA02EBAF9E7B4   \n",
       "2  04852EC1A7D9FB8A291A24DDCE8C62B9  E351B480079ADEC7F6E6BE3ACEEA6EDF   \n",
       "3  E62BE617269467931F2239C2771605C2  363723A73A926A7434E815F2F1D5ED61   \n",
       "4  54D2B4C5ECAE5FBC316524329846F81E  9CD4110328DA4CD71FFE0BE486D51094   \n",
       "\n",
       "                        server_hash  symbol  digits  cmd  volume  \\\n",
       "0  2F1CA40D76D7E6165DBA3924CE0D3B5C  EURUSD       5    1       5   \n",
       "1  2F1CA40D76D7E6165DBA3924CE0D3B5C  XAUUSD       2    1       1   \n",
       "2  2F1CA40D76D7E6165DBA3924CE0D3B5C  EURGBP       5    0      10   \n",
       "3  2F1CA40D76D7E6165DBA3924CE0D3B5C  XAUUSD       2    1      10   \n",
       "4  2F1CA40D76D7E6165DBA3924CE0D3B5C  XAUUSD       2    1      85   \n",
       "\n",
       "            open_time  open_price          close_time  contractsize  \n",
       "0 2020-08-19 12:19:11     1.19459 2020-08-19 12:48:09      100000.0  \n",
       "1 2020-08-28 03:09:02  1925.48000 2020-08-28 06:03:45         100.0  \n",
       "2 2020-08-25 13:47:34     0.90157 2020-09-08 12:20:43      100000.0  \n",
       "3 2020-08-28 02:46:57  1926.68000 2020-08-28 02:51:13         100.0  \n",
       "4 2020-08-11 09:27:28  1999.12000 2020-08-11 09:27:54         100.0  "
      ]
     },
     "execution_count": 23,
     "metadata": {},
     "output_type": "execute_result"
    }
   ],
   "source": [
    "trades.head()"
   ]
  },
  {
   "cell_type": "code",
   "execution_count": 24,
   "metadata": {},
   "outputs": [
    {
     "data": {
      "text/html": [
       "<div>\n",
       "<style scoped>\n",
       "    .dataframe tbody tr th:only-of-type {\n",
       "        vertical-align: middle;\n",
       "    }\n",
       "\n",
       "    .dataframe tbody tr th {\n",
       "        vertical-align: top;\n",
       "    }\n",
       "\n",
       "    .dataframe thead th {\n",
       "        text-align: right;\n",
       "    }\n",
       "</style>\n",
       "<table border=\"1\" class=\"dataframe\">\n",
       "  <thead>\n",
       "    <tr style=\"text-align: right;\">\n",
       "      <th></th>\n",
       "      <th>login_hash</th>\n",
       "      <th>server_hash</th>\n",
       "      <th>country_hash</th>\n",
       "      <th>currency</th>\n",
       "      <th>enable</th>\n",
       "    </tr>\n",
       "  </thead>\n",
       "  <tbody>\n",
       "    <tr>\n",
       "      <th>0</th>\n",
       "      <td>03A15F382AF3D505592CA69EFD4DC431</td>\n",
       "      <td>76791A893BDB9A68E8EE44898D581A60</td>\n",
       "      <td>AE54A5C026F31ADA088992587D92CB3A</td>\n",
       "      <td>USD</td>\n",
       "      <td>1</td>\n",
       "    </tr>\n",
       "    <tr>\n",
       "      <th>1</th>\n",
       "      <td>F8ADF5FF9840712CE2AF7FA9EA2A3FA7</td>\n",
       "      <td>76791A893BDB9A68E8EE44898D581A60</td>\n",
       "      <td>AE54A5C026F31ADA088992587D92CB3A</td>\n",
       "      <td>USD</td>\n",
       "      <td>1</td>\n",
       "    </tr>\n",
       "    <tr>\n",
       "      <th>2</th>\n",
       "      <td>B78CD788AB20A5D61CB13BD5389CABB3</td>\n",
       "      <td>76791A893BDB9A68E8EE44898D581A60</td>\n",
       "      <td>AE54A5C026F31ADA088992587D92CB3A</td>\n",
       "      <td>USD</td>\n",
       "      <td>1</td>\n",
       "    </tr>\n",
       "    <tr>\n",
       "      <th>3</th>\n",
       "      <td>DEFB729116227EF8582BFEC65F998489</td>\n",
       "      <td>76791A893BDB9A68E8EE44898D581A60</td>\n",
       "      <td>103357E3E40A9C0E4E9D36110F7BBC7A</td>\n",
       "      <td>USD</td>\n",
       "      <td>1</td>\n",
       "    </tr>\n",
       "    <tr>\n",
       "      <th>4</th>\n",
       "      <td>9EAD9A73AA6C93823C56BB8C2E798B45</td>\n",
       "      <td>76791A893BDB9A68E8EE44898D581A60</td>\n",
       "      <td>AE54A5C026F31ADA088992587D92CB3A</td>\n",
       "      <td>USD</td>\n",
       "      <td>1</td>\n",
       "    </tr>\n",
       "  </tbody>\n",
       "</table>\n",
       "</div>"
      ],
      "text/plain": [
       "                         login_hash                       server_hash  \\\n",
       "0  03A15F382AF3D505592CA69EFD4DC431  76791A893BDB9A68E8EE44898D581A60   \n",
       "1  F8ADF5FF9840712CE2AF7FA9EA2A3FA7  76791A893BDB9A68E8EE44898D581A60   \n",
       "2  B78CD788AB20A5D61CB13BD5389CABB3  76791A893BDB9A68E8EE44898D581A60   \n",
       "3  DEFB729116227EF8582BFEC65F998489  76791A893BDB9A68E8EE44898D581A60   \n",
       "4  9EAD9A73AA6C93823C56BB8C2E798B45  76791A893BDB9A68E8EE44898D581A60   \n",
       "\n",
       "                       country_hash currency  enable  \n",
       "0  AE54A5C026F31ADA088992587D92CB3A      USD       1  \n",
       "1  AE54A5C026F31ADA088992587D92CB3A      USD       1  \n",
       "2  AE54A5C026F31ADA088992587D92CB3A      USD       1  \n",
       "3  103357E3E40A9C0E4E9D36110F7BBC7A      USD       1  \n",
       "4  AE54A5C026F31ADA088992587D92CB3A      USD       1  "
      ]
     },
     "execution_count": 24,
     "metadata": {},
     "output_type": "execute_result"
    }
   ],
   "source": [
    "users.head()"
   ]
  },
  {
   "cell_type": "markdown",
   "metadata": {},
   "source": [
    "## Trades"
   ]
  },
  {
   "cell_type": "code",
   "execution_count": 26,
   "metadata": {},
   "outputs": [],
   "source": [
    "trades_dup = trades.drop_duplicates()"
   ]
  },
  {
   "cell_type": "code",
   "execution_count": 27,
   "metadata": {},
   "outputs": [
    {
     "data": {
      "text/plain": [
       "((100000, 11), (100000, 11))"
      ]
     },
     "execution_count": 27,
     "metadata": {},
     "output_type": "execute_result"
    }
   ],
   "source": [
    "trades.shape, trades_dup.shape"
   ]
  },
  {
   "cell_type": "code",
   "execution_count": 28,
   "metadata": {},
   "outputs": [
    {
     "data": {
      "text/plain": [
       "login_hash      0\n",
       "ticket_hash     0\n",
       "server_hash     0\n",
       "symbol          0\n",
       "digits          0\n",
       "cmd             0\n",
       "volume          0\n",
       "open_time       0\n",
       "open_price      0\n",
       "close_time      0\n",
       "contractsize    7\n",
       "dtype: int64"
      ]
     },
     "execution_count": 28,
     "metadata": {},
     "output_type": "execute_result"
    }
   ],
   "source": [
    "trades.isnull().sum()"
   ]
  },
  {
   "cell_type": "code",
   "execution_count": 313,
   "metadata": {
    "scrolled": true
   },
   "outputs": [
    {
     "data": {
      "text/html": [
       "<div>\n",
       "<style scoped>\n",
       "    .dataframe tbody tr th:only-of-type {\n",
       "        vertical-align: middle;\n",
       "    }\n",
       "\n",
       "    .dataframe tbody tr th {\n",
       "        vertical-align: top;\n",
       "    }\n",
       "\n",
       "    .dataframe thead th {\n",
       "        text-align: right;\n",
       "    }\n",
       "</style>\n",
       "<table border=\"1\" class=\"dataframe\">\n",
       "  <thead>\n",
       "    <tr style=\"text-align: right;\">\n",
       "      <th></th>\n",
       "      <th>login_hash</th>\n",
       "      <th>ticket_hash</th>\n",
       "      <th>server_hash</th>\n",
       "      <th>symbol</th>\n",
       "      <th>digits</th>\n",
       "      <th>cmd</th>\n",
       "      <th>volume</th>\n",
       "      <th>open_time</th>\n",
       "      <th>open_price</th>\n",
       "      <th>close_time</th>\n",
       "      <th>contractsize</th>\n",
       "      <th>trade_time</th>\n",
       "      <th>contract_volume</th>\n",
       "      <th>price_total</th>\n",
       "    </tr>\n",
       "  </thead>\n",
       "  <tbody>\n",
       "    <tr>\n",
       "      <th>869</th>\n",
       "      <td>2BCA9F6675B4F907E51DE5570E443D2B</td>\n",
       "      <td>B883EA07D74C0EB619A7ECC92F59312C</td>\n",
       "      <td>2F1CA40D76D7E6165DBA3924CE0D3B5C</td>\n",
       "      <td>COFFEE</td>\n",
       "      <td>2</td>\n",
       "      <td>1</td>\n",
       "      <td>100</td>\n",
       "      <td>2020-08-19 15:46:03</td>\n",
       "      <td>121.37</td>\n",
       "      <td>2020-08-19 16:26:32</td>\n",
       "      <td>NaN</td>\n",
       "      <td>0 days 00:40:29</td>\n",
       "      <td>NaN</td>\n",
       "      <td>NaN</td>\n",
       "    </tr>\n",
       "    <tr>\n",
       "      <th>6752</th>\n",
       "      <td>32DE9EECD10691C33D28F716CC255364</td>\n",
       "      <td>7EB45147326758A1128032D6D67E2235</td>\n",
       "      <td>3D1F7E00251C43107EF39F55300781DB</td>\n",
       "      <td>COFFEE</td>\n",
       "      <td>2</td>\n",
       "      <td>0</td>\n",
       "      <td>100</td>\n",
       "      <td>2020-08-11 16:33:22</td>\n",
       "      <td>112.89</td>\n",
       "      <td>2020-08-12 16:51:29</td>\n",
       "      <td>NaN</td>\n",
       "      <td>1 days 00:18:07</td>\n",
       "      <td>NaN</td>\n",
       "      <td>NaN</td>\n",
       "    </tr>\n",
       "    <tr>\n",
       "      <th>7818</th>\n",
       "      <td>2BCA9F6675B4F907E51DE5570E443D2B</td>\n",
       "      <td>3A4199B38A115C61789D3611B1490381</td>\n",
       "      <td>2F1CA40D76D7E6165DBA3924CE0D3B5C</td>\n",
       "      <td>COFFEE</td>\n",
       "      <td>2</td>\n",
       "      <td>0</td>\n",
       "      <td>100</td>\n",
       "      <td>2020-08-14 17:04:35</td>\n",
       "      <td>118.54</td>\n",
       "      <td>2020-08-14 19:51:32</td>\n",
       "      <td>NaN</td>\n",
       "      <td>0 days 02:46:57</td>\n",
       "      <td>NaN</td>\n",
       "      <td>NaN</td>\n",
       "    </tr>\n",
       "    <tr>\n",
       "      <th>8371</th>\n",
       "      <td>87664AA1F50A83BB2429989AA470A167</td>\n",
       "      <td>DDBAA964028BEBBDFF5EC91F9C268829</td>\n",
       "      <td>3D1F7E00251C43107EF39F55300781DB</td>\n",
       "      <td>COFFEE</td>\n",
       "      <td>2</td>\n",
       "      <td>0</td>\n",
       "      <td>100</td>\n",
       "      <td>2020-08-03 13:43:47</td>\n",
       "      <td>118.95</td>\n",
       "      <td>2020-08-05 16:18:59</td>\n",
       "      <td>NaN</td>\n",
       "      <td>2 days 02:35:12</td>\n",
       "      <td>NaN</td>\n",
       "      <td>NaN</td>\n",
       "    </tr>\n",
       "    <tr>\n",
       "      <th>76794</th>\n",
       "      <td>2BCA9F6675B4F907E51DE5570E443D2B</td>\n",
       "      <td>87E404EF518982E7B276442506AFF3B4</td>\n",
       "      <td>2F1CA40D76D7E6165DBA3924CE0D3B5C</td>\n",
       "      <td>COFFEE</td>\n",
       "      <td>2</td>\n",
       "      <td>1</td>\n",
       "      <td>100</td>\n",
       "      <td>2020-08-19 13:59:06</td>\n",
       "      <td>121.68</td>\n",
       "      <td>2020-08-19 15:13:10</td>\n",
       "      <td>NaN</td>\n",
       "      <td>0 days 01:14:04</td>\n",
       "      <td>NaN</td>\n",
       "      <td>NaN</td>\n",
       "    </tr>\n",
       "    <tr>\n",
       "      <th>92109</th>\n",
       "      <td>D33487486545A737682F7D1E5ECEABD8</td>\n",
       "      <td>EFC383645A70715146570CF4B4AF2607</td>\n",
       "      <td>2F1CA40D76D7E6165DBA3924CE0D3B5C</td>\n",
       "      <td>COFFEE</td>\n",
       "      <td>2</td>\n",
       "      <td>1</td>\n",
       "      <td>100</td>\n",
       "      <td>2020-08-31 18:32:06</td>\n",
       "      <td>127.67</td>\n",
       "      <td>2020-08-31 19:26:24</td>\n",
       "      <td>NaN</td>\n",
       "      <td>0 days 00:54:18</td>\n",
       "      <td>NaN</td>\n",
       "      <td>NaN</td>\n",
       "    </tr>\n",
       "    <tr>\n",
       "      <th>97721</th>\n",
       "      <td>2BCA9F6675B4F907E51DE5570E443D2B</td>\n",
       "      <td>EE9AA9FD12760CDD3F86FE72F84CFD0A</td>\n",
       "      <td>2F1CA40D76D7E6165DBA3924CE0D3B5C</td>\n",
       "      <td>COFFEE</td>\n",
       "      <td>2</td>\n",
       "      <td>1</td>\n",
       "      <td>100</td>\n",
       "      <td>2020-08-17 12:10:50</td>\n",
       "      <td>115.55</td>\n",
       "      <td>2020-08-17 14:54:03</td>\n",
       "      <td>NaN</td>\n",
       "      <td>0 days 02:43:13</td>\n",
       "      <td>NaN</td>\n",
       "      <td>NaN</td>\n",
       "    </tr>\n",
       "  </tbody>\n",
       "</table>\n",
       "</div>"
      ],
      "text/plain": [
       "                             login_hash                       ticket_hash  \\\n",
       "869    2BCA9F6675B4F907E51DE5570E443D2B  B883EA07D74C0EB619A7ECC92F59312C   \n",
       "6752   32DE9EECD10691C33D28F716CC255364  7EB45147326758A1128032D6D67E2235   \n",
       "7818   2BCA9F6675B4F907E51DE5570E443D2B  3A4199B38A115C61789D3611B1490381   \n",
       "8371   87664AA1F50A83BB2429989AA470A167  DDBAA964028BEBBDFF5EC91F9C268829   \n",
       "76794  2BCA9F6675B4F907E51DE5570E443D2B  87E404EF518982E7B276442506AFF3B4   \n",
       "92109  D33487486545A737682F7D1E5ECEABD8  EFC383645A70715146570CF4B4AF2607   \n",
       "97721  2BCA9F6675B4F907E51DE5570E443D2B  EE9AA9FD12760CDD3F86FE72F84CFD0A   \n",
       "\n",
       "                            server_hash  symbol  digits  cmd  volume  \\\n",
       "869    2F1CA40D76D7E6165DBA3924CE0D3B5C  COFFEE       2    1     100   \n",
       "6752   3D1F7E00251C43107EF39F55300781DB  COFFEE       2    0     100   \n",
       "7818   2F1CA40D76D7E6165DBA3924CE0D3B5C  COFFEE       2    0     100   \n",
       "8371   3D1F7E00251C43107EF39F55300781DB  COFFEE       2    0     100   \n",
       "76794  2F1CA40D76D7E6165DBA3924CE0D3B5C  COFFEE       2    1     100   \n",
       "92109  2F1CA40D76D7E6165DBA3924CE0D3B5C  COFFEE       2    1     100   \n",
       "97721  2F1CA40D76D7E6165DBA3924CE0D3B5C  COFFEE       2    1     100   \n",
       "\n",
       "                open_time  open_price          close_time  contractsize  \\\n",
       "869   2020-08-19 15:46:03      121.37 2020-08-19 16:26:32           NaN   \n",
       "6752  2020-08-11 16:33:22      112.89 2020-08-12 16:51:29           NaN   \n",
       "7818  2020-08-14 17:04:35      118.54 2020-08-14 19:51:32           NaN   \n",
       "8371  2020-08-03 13:43:47      118.95 2020-08-05 16:18:59           NaN   \n",
       "76794 2020-08-19 13:59:06      121.68 2020-08-19 15:13:10           NaN   \n",
       "92109 2020-08-31 18:32:06      127.67 2020-08-31 19:26:24           NaN   \n",
       "97721 2020-08-17 12:10:50      115.55 2020-08-17 14:54:03           NaN   \n",
       "\n",
       "           trade_time  contract_volume  price_total  \n",
       "869   0 days 00:40:29              NaN          NaN  \n",
       "6752  1 days 00:18:07              NaN          NaN  \n",
       "7818  0 days 02:46:57              NaN          NaN  \n",
       "8371  2 days 02:35:12              NaN          NaN  \n",
       "76794 0 days 01:14:04              NaN          NaN  \n",
       "92109 0 days 00:54:18              NaN          NaN  \n",
       "97721 0 days 02:43:13              NaN          NaN  "
      ]
     },
     "execution_count": 313,
     "metadata": {},
     "output_type": "execute_result"
    }
   ],
   "source": [
    "trades[trades['contractsize'].isnull()].head(10)"
   ]
  },
  {
   "cell_type": "code",
   "execution_count": 317,
   "metadata": {},
   "outputs": [
    {
     "data": {
      "text/plain": [
       "(7, 7)"
      ]
     },
     "execution_count": 317,
     "metadata": {},
     "output_type": "execute_result"
    }
   ],
   "source": [
    "trades[trades['symbol']=='COFFEE']['symbol'].count(), trades[trades['contractsize'].isnull()]['ticket_hash'].count()"
   ]
  },
  {
   "cell_type": "markdown",
   "metadata": {},
   "source": [
    "### Issue 1\n",
    "Financial instrument 'COFFEE' does not have contractsize / contractsize with 0 corresponds to financial instrument 'COFFEE'"
   ]
  },
  {
   "cell_type": "code",
   "execution_count": 22,
   "metadata": {},
   "outputs": [
    {
     "data": {
      "text/plain": [
       "count    100000.000000\n",
       "mean         17.986650\n",
       "std         100.438786\n",
       "min           0.000000\n",
       "25%           1.000000\n",
       "50%           3.000000\n",
       "75%          10.000000\n",
       "max       10000.000000\n",
       "Name: volume, dtype: float64"
      ]
     },
     "execution_count": 22,
     "metadata": {},
     "output_type": "execute_result"
    }
   ],
   "source": [
    "trades['volume'].describe()"
   ]
  },
  {
   "cell_type": "code",
   "execution_count": 23,
   "metadata": {},
   "outputs": [
    {
     "data": {
      "text/html": [
       "<div>\n",
       "<style scoped>\n",
       "    .dataframe tbody tr th:only-of-type {\n",
       "        vertical-align: middle;\n",
       "    }\n",
       "\n",
       "    .dataframe tbody tr th {\n",
       "        vertical-align: top;\n",
       "    }\n",
       "\n",
       "    .dataframe thead th {\n",
       "        text-align: right;\n",
       "    }\n",
       "</style>\n",
       "<table border=\"1\" class=\"dataframe\">\n",
       "  <thead>\n",
       "    <tr style=\"text-align: right;\">\n",
       "      <th></th>\n",
       "      <th>login_hash</th>\n",
       "      <th>ticket_hash</th>\n",
       "      <th>server_hash</th>\n",
       "      <th>symbol</th>\n",
       "      <th>digits</th>\n",
       "      <th>cmd</th>\n",
       "      <th>volume</th>\n",
       "      <th>open_time</th>\n",
       "      <th>open_price</th>\n",
       "      <th>close_time</th>\n",
       "      <th>contractsize</th>\n",
       "    </tr>\n",
       "  </thead>\n",
       "  <tbody>\n",
       "    <tr>\n",
       "      <th>8349</th>\n",
       "      <td>9D6DFBCA3FD40AFF3097964853627A1E</td>\n",
       "      <td>BEA18D06F216DC9352B32B6CEDE0C373</td>\n",
       "      <td>54203B42716FE7C40138AE6C4913EBBC</td>\n",
       "      <td>EURUSD</td>\n",
       "      <td>5</td>\n",
       "      <td>0</td>\n",
       "      <td>0</td>\n",
       "      <td>2020-08-07 01:05:46</td>\n",
       "      <td>1.18804</td>\n",
       "      <td>2020-08-07 23:27:37</td>\n",
       "      <td>100000.0</td>\n",
       "    </tr>\n",
       "  </tbody>\n",
       "</table>\n",
       "</div>"
      ],
      "text/plain": [
       "                            login_hash                       ticket_hash  \\\n",
       "8349  9D6DFBCA3FD40AFF3097964853627A1E  BEA18D06F216DC9352B32B6CEDE0C373   \n",
       "\n",
       "                           server_hash  symbol  digits  cmd  volume  \\\n",
       "8349  54203B42716FE7C40138AE6C4913EBBC  EURUSD       5    0       0   \n",
       "\n",
       "               open_time  open_price          close_time  contractsize  \n",
       "8349 2020-08-07 01:05:46     1.18804 2020-08-07 23:27:37      100000.0  "
      ]
     },
     "execution_count": 23,
     "metadata": {},
     "output_type": "execute_result"
    }
   ],
   "source": [
    "trades[trades['volume']==0].head()"
   ]
  },
  {
   "cell_type": "markdown",
   "metadata": {},
   "source": [
    "### Issue 2 \n",
    "Trade ID 'BEA18D06F216DC9352B32B6CEDE0C373' has trade size = 0."
   ]
  },
  {
   "cell_type": "code",
   "execution_count": 41,
   "metadata": {},
   "outputs": [
    {
     "data": {
      "text/plain": [
       "(Timestamp('2020-08-03 00:01:05'),\n",
       " Timestamp('2020-08-31 23:58:39'),\n",
       " Timestamp('2020-08-03 00:36:19'),\n",
       " Timestamp('2022-08-18 23:57:18'))"
      ]
     },
     "execution_count": 41,
     "metadata": {},
     "output_type": "execute_result"
    }
   ],
   "source": [
    "trades['open_time'].min(),trades['open_time'].max(),trades['close_time'].min(),trades['close_time'].max()"
   ]
  },
  {
   "cell_type": "code",
   "execution_count": 44,
   "metadata": {},
   "outputs": [
    {
     "data": {
      "text/plain": [
       "4780"
      ]
     },
     "execution_count": 44,
     "metadata": {},
     "output_type": "execute_result"
    }
   ],
   "source": [
    "from pandas import Timestamp\n",
    "import datetime\n",
    "trades[trades['close_time'] > Timestamp(datetime.datetime.now())]['close_time'].count()"
   ]
  },
  {
   "cell_type": "markdown",
   "metadata": {},
   "source": [
    "#### Obs 1:\n",
    "Nearly 4780 trades have close time in the future"
   ]
  },
  {
   "cell_type": "code",
   "execution_count": 557,
   "metadata": {},
   "outputs": [
    {
     "data": {
      "text/plain": [
       "<matplotlib.axes._subplots.AxesSubplot at 0x22753b9b0b8>"
      ]
     },
     "execution_count": 557,
     "metadata": {},
     "output_type": "execute_result"
    },
    {
     "data": {
      "image/png": "[encoded data removed]",
      "text/plain": [
       "<Figure size 432x288 with 1 Axes>"
      ]
     },
     "metadata": {},
     "output_type": "display_data"
    }
   ],
   "source": [
    "trades['cmd'].value_counts().plot(kind='bar')"
   ]
  },
  {
   "cell_type": "code",
   "execution_count": 66,
   "metadata": {},
   "outputs": [],
   "source": [
    "trades['trade_time'] = trades['close_time'] - trades['open_time']"
   ]
  },
  {
   "cell_type": "code",
   "execution_count": 67,
   "metadata": {},
   "outputs": [
    {
     "data": {
      "text/html": [
       "<div>\n",
       "<style scoped>\n",
       "    .dataframe tbody tr th:only-of-type {\n",
       "        vertical-align: middle;\n",
       "    }\n",
       "\n",
       "    .dataframe tbody tr th {\n",
       "        vertical-align: top;\n",
       "    }\n",
       "\n",
       "    .dataframe thead th {\n",
       "        text-align: right;\n",
       "    }\n",
       "</style>\n",
       "<table border=\"1\" class=\"dataframe\">\n",
       "  <thead>\n",
       "    <tr style=\"text-align: right;\">\n",
       "      <th></th>\n",
       "      <th>login_hash</th>\n",
       "      <th>ticket_hash</th>\n",
       "      <th>server_hash</th>\n",
       "      <th>symbol</th>\n",
       "      <th>digits</th>\n",
       "      <th>cmd</th>\n",
       "      <th>volume</th>\n",
       "      <th>open_time</th>\n",
       "      <th>open_price</th>\n",
       "      <th>close_time</th>\n",
       "      <th>contractsize</th>\n",
       "      <th>trade_time</th>\n",
       "    </tr>\n",
       "  </thead>\n",
       "  <tbody>\n",
       "    <tr>\n",
       "      <th>0</th>\n",
       "      <td>0DF500A57244E5B1670277767BEBB554</td>\n",
       "      <td>B321DC57F3B410507B986DD8962F8B1C</td>\n",
       "      <td>2F1CA40D76D7E6165DBA3924CE0D3B5C</td>\n",
       "      <td>EURUSD</td>\n",
       "      <td>5</td>\n",
       "      <td>1</td>\n",
       "      <td>5</td>\n",
       "      <td>2020-08-19 12:19:11</td>\n",
       "      <td>1.19459</td>\n",
       "      <td>2020-08-19 12:48:09</td>\n",
       "      <td>100000.0</td>\n",
       "      <td>0 days 00:28:58</td>\n",
       "    </tr>\n",
       "    <tr>\n",
       "      <th>1</th>\n",
       "      <td>6D66E192834605522190E51BF226FF5B</td>\n",
       "      <td>F68DA930EE1129D94EDFA02EBAF9E7B4</td>\n",
       "      <td>2F1CA40D76D7E6165DBA3924CE0D3B5C</td>\n",
       "      <td>XAUUSD</td>\n",
       "      <td>2</td>\n",
       "      <td>1</td>\n",
       "      <td>1</td>\n",
       "      <td>2020-08-28 03:09:02</td>\n",
       "      <td>1925.48000</td>\n",
       "      <td>2020-08-28 06:03:45</td>\n",
       "      <td>100.0</td>\n",
       "      <td>0 days 02:54:43</td>\n",
       "    </tr>\n",
       "    <tr>\n",
       "      <th>2</th>\n",
       "      <td>04852EC1A7D9FB8A291A24DDCE8C62B9</td>\n",
       "      <td>E351B480079ADEC7F6E6BE3ACEEA6EDF</td>\n",
       "      <td>2F1CA40D76D7E6165DBA3924CE0D3B5C</td>\n",
       "      <td>EURGBP</td>\n",
       "      <td>5</td>\n",
       "      <td>0</td>\n",
       "      <td>10</td>\n",
       "      <td>2020-08-25 13:47:34</td>\n",
       "      <td>0.90157</td>\n",
       "      <td>2020-09-08 12:20:43</td>\n",
       "      <td>100000.0</td>\n",
       "      <td>13 days 22:33:09</td>\n",
       "    </tr>\n",
       "    <tr>\n",
       "      <th>3</th>\n",
       "      <td>E62BE617269467931F2239C2771605C2</td>\n",
       "      <td>363723A73A926A7434E815F2F1D5ED61</td>\n",
       "      <td>2F1CA40D76D7E6165DBA3924CE0D3B5C</td>\n",
       "      <td>XAUUSD</td>\n",
       "      <td>2</td>\n",
       "      <td>1</td>\n",
       "      <td>10</td>\n",
       "      <td>2020-08-28 02:46:57</td>\n",
       "      <td>1926.68000</td>\n",
       "      <td>2020-08-28 02:51:13</td>\n",
       "      <td>100.0</td>\n",
       "      <td>0 days 00:04:16</td>\n",
       "    </tr>\n",
       "    <tr>\n",
       "      <th>4</th>\n",
       "      <td>54D2B4C5ECAE5FBC316524329846F81E</td>\n",
       "      <td>9CD4110328DA4CD71FFE0BE486D51094</td>\n",
       "      <td>2F1CA40D76D7E6165DBA3924CE0D3B5C</td>\n",
       "      <td>XAUUSD</td>\n",
       "      <td>2</td>\n",
       "      <td>1</td>\n",
       "      <td>85</td>\n",
       "      <td>2020-08-11 09:27:28</td>\n",
       "      <td>1999.12000</td>\n",
       "      <td>2020-08-11 09:27:54</td>\n",
       "      <td>100.0</td>\n",
       "      <td>0 days 00:00:26</td>\n",
       "    </tr>\n",
       "  </tbody>\n",
       "</table>\n",
       "</div>"
      ],
      "text/plain": [
       "                         login_hash                       ticket_hash  \\\n",
       "0  0DF500A57244E5B1670277767BEBB554  B321DC57F3B410507B986DD8962F8B1C   \n",
       "1  6D66E192834605522190E51BF226FF5B  F68DA930EE1129D94EDFA02EBAF9E7B4   \n",
       "2  04852EC1A7D9FB8A291A24DDCE8C62B9  E351B480079ADEC7F6E6BE3ACEEA6EDF   \n",
       "3  E62BE617269467931F2239C2771605C2  363723A73A926A7434E815F2F1D5ED61   \n",
       "4  54D2B4C5ECAE5FBC316524329846F81E  9CD4110328DA4CD71FFE0BE486D51094   \n",
       "\n",
       "                        server_hash  symbol  digits  cmd  volume  \\\n",
       "0  2F1CA40D76D7E6165DBA3924CE0D3B5C  EURUSD       5    1       5   \n",
       "1  2F1CA40D76D7E6165DBA3924CE0D3B5C  XAUUSD       2    1       1   \n",
       "2  2F1CA40D76D7E6165DBA3924CE0D3B5C  EURGBP       5    0      10   \n",
       "3  2F1CA40D76D7E6165DBA3924CE0D3B5C  XAUUSD       2    1      10   \n",
       "4  2F1CA40D76D7E6165DBA3924CE0D3B5C  XAUUSD       2    1      85   \n",
       "\n",
       "            open_time  open_price          close_time  contractsize  \\\n",
       "0 2020-08-19 12:19:11     1.19459 2020-08-19 12:48:09      100000.0   \n",
       "1 2020-08-28 03:09:02  1925.48000 2020-08-28 06:03:45         100.0   \n",
       "2 2020-08-25 13:47:34     0.90157 2020-09-08 12:20:43      100000.0   \n",
       "3 2020-08-28 02:46:57  1926.68000 2020-08-28 02:51:13         100.0   \n",
       "4 2020-08-11 09:27:28  1999.12000 2020-08-11 09:27:54         100.0   \n",
       "\n",
       "        trade_time  \n",
       "0  0 days 00:28:58  \n",
       "1  0 days 02:54:43  \n",
       "2 13 days 22:33:09  \n",
       "3  0 days 00:04:16  \n",
       "4  0 days 00:00:26  "
      ]
     },
     "execution_count": 67,
     "metadata": {},
     "output_type": "execute_result"
    }
   ],
   "source": [
    "trades.head()"
   ]
  },
  {
   "cell_type": "code",
   "execution_count": 68,
   "metadata": {},
   "outputs": [
    {
     "data": {
      "text/plain": [
       "(Timedelta('0 days 00:00:00'), Timedelta('745 days 10:07:01'))"
      ]
     },
     "execution_count": 68,
     "metadata": {},
     "output_type": "execute_result"
    }
   ],
   "source": [
    "trades['trade_time'].min(), trades['trade_time'].max()"
   ]
  },
  {
   "cell_type": "code",
   "execution_count": 95,
   "metadata": {},
   "outputs": [
    {
     "data": {
      "text/plain": [
       "count                      100000\n",
       "mean      35 days 13:05:26.651950\n",
       "std      155 days 20:39:49.378303\n",
       "min               0 days 00:00:00\n",
       "25%               0 days 00:08:04\n",
       "50%               0 days 00:39:50\n",
       "75%        0 days 04:00:01.750000\n",
       "max             745 days 10:07:01\n",
       "Name: trade_time, dtype: object"
      ]
     },
     "execution_count": 95,
     "metadata": {},
     "output_type": "execute_result"
    }
   ],
   "source": [
    "trades['trade_time'].describe()"
   ]
  },
  {
   "cell_type": "code",
   "execution_count": 70,
   "metadata": {},
   "outputs": [
    {
     "data": {
      "text/plain": [
       "36"
      ]
     },
     "execution_count": 70,
     "metadata": {},
     "output_type": "execute_result"
    }
   ],
   "source": [
    "from pandas import Timedelta\n",
    "trades[trades['trade_time'] == Timedelta('0 days 00:00:00')]['trade_time'].count()"
   ]
  },
  {
   "cell_type": "markdown",
   "metadata": {},
   "source": [
    "### Issue 3 \n",
    "36 trades have same open time and close time. "
   ]
  },
  {
   "cell_type": "code",
   "execution_count": 73,
   "metadata": {},
   "outputs": [],
   "source": [
    "trades['contract_volume'] = trades['volume']*trades['contractsize']"
   ]
  },
  {
   "cell_type": "code",
   "execution_count": 75,
   "metadata": {},
   "outputs": [
    {
     "data": {
      "text/plain": [
       "count    9.999300e+04\n",
       "mean     7.600035e+05\n",
       "std      6.104741e+06\n",
       "min      0.000000e+00\n",
       "25%      2.000000e+02\n",
       "50%      3.200000e+03\n",
       "75%      2.000000e+05\n",
       "max      6.812000e+08\n",
       "Name: contract_volume, dtype: float64"
      ]
     },
     "execution_count": 75,
     "metadata": {},
     "output_type": "execute_result"
    }
   ],
   "source": [
    "trades['contract_volume'].describe()"
   ]
  },
  {
   "cell_type": "code",
   "execution_count": 79,
   "metadata": {},
   "outputs": [],
   "source": [
    "trades['price_total'] = trades['open_price']*trades['contract_volume']"
   ]
  },
  {
   "cell_type": "code",
   "execution_count": 80,
   "metadata": {},
   "outputs": [
    {
     "data": {
      "text/plain": [
       "count    9.999300e+04\n",
       "mean     1.187653e+07\n",
       "std      1.420332e+08\n",
       "min      0.000000e+00\n",
       "25%      1.969480e+05\n",
       "50%      4.738600e+05\n",
       "75%      1.982450e+06\n",
       "max      2.101650e+10\n",
       "Name: price_total, dtype: float64"
      ]
     },
     "execution_count": 80,
     "metadata": {},
     "output_type": "execute_result"
    }
   ],
   "source": [
    "trades['price_total'].describe()"
   ]
  },
  {
   "cell_type": "code",
   "execution_count": 107,
   "metadata": {},
   "outputs": [
    {
     "data": {
      "image/png": "[encoded data removed]",
      "text/plain": [
       "<Figure size 648x288 with 1 Axes>"
      ]
     },
     "metadata": {},
     "output_type": "display_data"
    }
   ],
   "source": [
    "plt.figure(figsize=(9,4))\n",
    "plt.title(\"KDE for price_total\")\n",
    "ax0 = sns.kdeplot(trades['price_total'].dropna(), color='navy')"
   ]
  },
  {
   "cell_type": "code",
   "execution_count": 108,
   "metadata": {
    "scrolled": true
   },
   "outputs": [
    {
     "data": {
      "image/png": "[encoded data removed]",
      "text/plain": [
       "<Figure size 648x288 with 1 Axes>"
      ]
     },
     "metadata": {},
     "output_type": "display_data"
    }
   ],
   "source": [
    "plt.figure(figsize=(9,4))\n",
    "plt.title(\"KDE for price_total\")\n",
    "ax0 = sns.kdeplot(trades[trades['cmd']==0]['price_total'].dropna(), color='navy', label='cmd: 0')\n",
    "ax1 = sns.kdeplot(trades[trades['cmd']==1]['price_total'].dropna(), color='orange', label='cmd: 1')"
   ]
  },
  {
   "cell_type": "markdown",
   "metadata": {},
   "source": [
    "#### Obs 2:\n",
    "Trade value/price_total is much concentrated between intervals for cmd = Buy when compared to that of cmd = Sell "
   ]
  },
  {
   "cell_type": "code",
   "execution_count": 51,
   "metadata": {},
   "outputs": [
    {
     "data": {
      "text/html": [
       "<style  type=\"text/css\" >\n",
       "    #T_1a8c37f6_229d_11ec_bdb7_b870f430cb0crow0_col0 {\n",
       "            width:  10em;\n",
       "             height:  80%;\n",
       "            background:  linear-gradient(90deg,#d65f5f 100.0%, transparent 0%);\n",
       "        }    #T_1a8c37f6_229d_11ec_bdb7_b870f430cb0crow1_col0 {\n",
       "            width:  10em;\n",
       "             height:  80%;\n",
       "            background:  linear-gradient(90deg,#d65f5f 22.1%, transparent 0%);\n",
       "        }    #T_1a8c37f6_229d_11ec_bdb7_b870f430cb0crow2_col0 {\n",
       "            width:  10em;\n",
       "             height:  80%;\n",
       "        }</style>  \n",
       "<table id=\"T_1a8c37f6_229d_11ec_bdb7_b870f430cb0c\" > \n",
       "<thead>    <tr> \n",
       "        <th class=\"blank level0\" ></th> \n",
       "        <th class=\"col_heading level0 col0\" >server_hash</th> \n",
       "    </tr></thead> \n",
       "<tbody>    <tr> \n",
       "        <th id=\"T_1a8c37f6_229d_11ec_bdb7_b870f430cb0clevel0_row0\" class=\"row_heading level0 row0\" >2F1CA40D76D7E6165DBA3924CE0D3B5C</th> \n",
       "        <td id=\"T_1a8c37f6_229d_11ec_bdb7_b870f430cb0crow0_col0\" class=\"data row0 col0\" >81064</td> \n",
       "    </tr>    <tr> \n",
       "        <th id=\"T_1a8c37f6_229d_11ec_bdb7_b870f430cb0clevel0_row1\" class=\"row_heading level0 row1\" >3D1F7E00251C43107EF39F55300781DB</th> \n",
       "        <td id=\"T_1a8c37f6_229d_11ec_bdb7_b870f430cb0crow1_col0\" class=\"data row1 col0\" >18365</td> \n",
       "    </tr>    <tr> \n",
       "        <th id=\"T_1a8c37f6_229d_11ec_bdb7_b870f430cb0clevel0_row2\" class=\"row_heading level0 row2\" >54203B42716FE7C40138AE6C4913EBBC</th> \n",
       "        <td id=\"T_1a8c37f6_229d_11ec_bdb7_b870f430cb0crow2_col0\" class=\"data row2 col0\" >571</td> \n",
       "    </tr></tbody> \n",
       "</table> "
      ],
      "text/plain": [
       "<pandas.io.formats.style.Styler at 0x2274b1226a0>"
      ]
     },
     "execution_count": 51,
     "metadata": {},
     "output_type": "execute_result"
    }
   ],
   "source": [
    "trades['server_hash'].value_counts().to_frame().style.bar()"
   ]
  },
  {
   "cell_type": "code",
   "execution_count": 83,
   "metadata": {
    "scrolled": true
   },
   "outputs": [
    {
     "data": {
      "text/plain": [
       "server_hash\n",
       "2F1CA40D76D7E6165DBA3924CE0D3B5C    1.063735e+07\n",
       "3D1F7E00251C43107EF39F55300781DB    1.672721e+07\n",
       "54203B42716FE7C40138AE6C4913EBBC    3.179461e+07\n",
       "Name: price_total, dtype: float64"
      ]
     },
     "execution_count": 83,
     "metadata": {},
     "output_type": "execute_result"
    }
   ],
   "source": [
    "trades.groupby('server_hash')['price_total'].mean()"
   ]
  },
  {
   "cell_type": "code",
   "execution_count": 50,
   "metadata": {
    "scrolled": true
   },
   "outputs": [
    {
     "data": {
      "text/plain": [
       "<matplotlib.axes._subplots.AxesSubplot at 0x2274a0bb8d0>"
      ]
     },
     "execution_count": 50,
     "metadata": {},
     "output_type": "execute_result"
    },
    {
     "data": {
      "image/png": "[encoded data removed]",
      "text/plain": [
       "<Figure size 432x288 with 1 Axes>"
      ]
     },
     "metadata": {},
     "output_type": "display_data"
    }
   ],
   "source": [
    "trades['server_hash'].value_counts().plot(kind='bar')"
   ]
  },
  {
   "cell_type": "code",
   "execution_count": 558,
   "metadata": {},
   "outputs": [
    {
     "data": {
      "text/plain": [
       "<matplotlib.axes._subplots.AxesSubplot at 0x22753c93518>"
      ]
     },
     "execution_count": 558,
     "metadata": {},
     "output_type": "execute_result"
    },
    {
     "data": {
      "image/png": "[encoded data removed]",
      "text/plain": [
       "<Figure size 432x288 with 1 Axes>"
      ]
     },
     "metadata": {},
     "output_type": "display_data"
    }
   ],
   "source": [
    "trades.groupby('server_hash')['price_total'].mean().plot(kind='bar')"
   ]
  },
  {
   "cell_type": "markdown",
   "metadata": {},
   "source": [
    "#### Obs 3:\n",
    "Number of trades of server and average trade value/price_total of server are inversely proportial.\n",
    "Here server 54203B42716FE7C40138AE6C4913EBBC has very few number of trades but high value of trades compared to other servers"
   ]
  },
  {
   "cell_type": "code",
   "execution_count": 323,
   "metadata": {
    "scrolled": true
   },
   "outputs": [
    {
     "data": {
      "text/plain": [
       "(648877026526.9999, 538692505755.8)"
      ]
     },
     "execution_count": 323,
     "metadata": {},
     "output_type": "execute_result"
    }
   ],
   "source": [
    "trades[trades['cmd']==0]['price_total'].sum(), trades[trades['cmd']==1]['price_total'].sum()"
   ]
  },
  {
   "cell_type": "code",
   "execution_count": 118,
   "metadata": {},
   "outputs": [
    {
     "data": {
      "image/png": "[encoded data removed]",
      "text/plain": [
       "<Figure size 360x180 with 1 Axes>"
      ]
     },
     "metadata": {},
     "output_type": "display_data"
    }
   ],
   "source": [
    "g = sns.PairGrid(trades, y_vars = ['open_price'], x_vars = ['contract_volume'], hue = 'cmd', aspect=2)\n",
    "ax = g.map(plt.scatter, alpha=0.6)"
   ]
  },
  {
   "cell_type": "code",
   "execution_count": 119,
   "metadata": {},
   "outputs": [
    {
     "data": {
      "image/png": "[encoded data removed]",
      "text/plain": [
       "<Figure size 360x180 with 1 Axes>"
      ]
     },
     "metadata": {},
     "output_type": "display_data"
    }
   ],
   "source": [
    "g = sns.PairGrid(trades, y_vars = ['open_price'], x_vars = ['contractsize'], hue = 'cmd', aspect=2)\n",
    "ax = g.map(plt.scatter, alpha=0.6)"
   ]
  },
  {
   "cell_type": "code",
   "execution_count": 123,
   "metadata": {},
   "outputs": [
    {
     "data": {
      "image/png": "[encoded data removed]",
      "text/plain": [
       "<Figure size 360x180 with 1 Axes>"
      ]
     },
     "metadata": {},
     "output_type": "display_data"
    }
   ],
   "source": [
    "g = sns.PairGrid(trades, y_vars = ['volume'], x_vars = ['contractsize'], hue = 'cmd', aspect=2)\n",
    "ax = g.map(plt.scatter, alpha=0.6)"
   ]
  },
  {
   "cell_type": "code",
   "execution_count": 124,
   "metadata": {},
   "outputs": [
    {
     "data": {
      "text/plain": [
       "count     99993.000000\n",
       "mean      44856.840239\n",
       "std       49669.111281\n",
       "min           1.000000\n",
       "25%         100.000000\n",
       "50%         100.000000\n",
       "75%      100000.000000\n",
       "max      100000.000000\n",
       "Name: contractsize, dtype: float64"
      ]
     },
     "execution_count": 124,
     "metadata": {},
     "output_type": "execute_result"
    }
   ],
   "source": [
    "trades['contractsize'].describe()"
   ]
  },
  {
   "cell_type": "code",
   "execution_count": 383,
   "metadata": {},
   "outputs": [
    {
     "name": "stderr",
     "output_type": "stream",
     "text": [
      "C:\\ProgramData\\Anaconda3\\lib\\site-packages\\matplotlib\\axes\\_axes.py:6462: UserWarning: The 'normed' kwarg is deprecated, and has been replaced by the 'density' kwarg.\n",
      "  warnings.warn(\"The 'normed' kwarg is deprecated, and has been \"\n"
     ]
    },
    {
     "data": {
      "image/png": "[encoded data removed]",
      "text/plain": [
       "<Figure size 368x360 with 1 Axes>"
      ]
     },
     "metadata": {},
     "output_type": "display_data"
    }
   ],
   "source": [
    "sns.FacetGrid(trades,size=5).map(sns.distplot, \"contractsize\").add_legend();\n",
    "plt.show()"
   ]
  },
  {
   "cell_type": "code",
   "execution_count": 127,
   "metadata": {},
   "outputs": [
    {
     "data": {
      "text/plain": [
       "1328"
      ]
     },
     "execution_count": 127,
     "metadata": {},
     "output_type": "execute_result"
    }
   ],
   "source": [
    "trades[(trades['contractsize'] > 100) & (trades['contractsize'] < 100000)]['contractsize'].count()"
   ]
  },
  {
   "cell_type": "code",
   "execution_count": 563,
   "metadata": {},
   "outputs": [
    {
     "data": {
      "text/plain": [
       "97193"
      ]
     },
     "execution_count": 563,
     "metadata": {},
     "output_type": "execute_result"
    }
   ],
   "source": [
    "trades[(trades['contractsize']==100000) | (trades['contractsize']==100)]['ticket_hash'].count()"
   ]
  },
  {
   "cell_type": "markdown",
   "metadata": {},
   "source": [
    "### Issue 4 \n",
    "Only 1328 tardes lie in contractsize between 100 and 100000"
   ]
  },
  {
   "cell_type": "markdown",
   "metadata": {},
   "source": [
    "#### Obs 4:\n",
    "97% of trades have contractsize of 100 or 100000"
   ]
  },
  {
   "cell_type": "code",
   "execution_count": 438,
   "metadata": {},
   "outputs": [
    {
     "data": {
      "image/png": "[encoded data removed]",
      "text/plain": [
       "<Figure size 864x432 with 2 Axes>"
      ]
     },
     "metadata": {},
     "output_type": "display_data"
    }
   ],
   "source": [
    "# checkng correlation of among features\n",
    "plt.figure(figsize=(12,6))\n",
    "corr = trades[['server_hash','symbol','cmd','volume','open_price','contractsize','price_total', 'trade_days']].apply(lambda x: pd.factorize(x)[0]).corr()\n",
    "ax = sns.heatmap(corr, xticklabels=corr.columns, yticklabels=corr.columns,linewidths=.2, cmap='YlGnBu')"
   ]
  },
  {
   "cell_type": "code",
   "execution_count": 379,
   "metadata": {},
   "outputs": [],
   "source": [
    "trades['open_time_hour'] = trades['open_time'].dt.hour\n",
    "trades['close_time_hour'] = trades['close_time'].dt.hour"
   ]
  },
  {
   "cell_type": "code",
   "execution_count": 380,
   "metadata": {
    "scrolled": true
   },
   "outputs": [
    {
     "name": "stderr",
     "output_type": "stream",
     "text": [
      "C:\\ProgramData\\Anaconda3\\lib\\site-packages\\matplotlib\\axes\\_axes.py:6462: UserWarning: The 'normed' kwarg is deprecated, and has been replaced by the 'density' kwarg.\n",
      "  warnings.warn(\"The 'normed' kwarg is deprecated, and has been \"\n",
      "C:\\ProgramData\\Anaconda3\\lib\\site-packages\\matplotlib\\axes\\_axes.py:6462: UserWarning: The 'normed' kwarg is deprecated, and has been replaced by the 'density' kwarg.\n",
      "  warnings.warn(\"The 'normed' kwarg is deprecated, and has been \"\n"
     ]
    },
    {
     "data": {
      "image/png": "[encoded data removed]",
      "text/plain": [
       "<Figure size 402.375x360 with 1 Axes>"
      ]
     },
     "metadata": {},
     "output_type": "display_data"
    }
   ],
   "source": [
    "sns.FacetGrid(trades, hue='cmd', size=5).map(sns.distplot, \"open_time_hour\").add_legend();\n",
    "plt.show()"
   ]
  },
  {
   "cell_type": "code",
   "execution_count": 381,
   "metadata": {},
   "outputs": [
    {
     "name": "stderr",
     "output_type": "stream",
     "text": [
      "C:\\ProgramData\\Anaconda3\\lib\\site-packages\\matplotlib\\axes\\_axes.py:6462: UserWarning: The 'normed' kwarg is deprecated, and has been replaced by the 'density' kwarg.\n",
      "  warnings.warn(\"The 'normed' kwarg is deprecated, and has been \"\n"
     ]
    },
    {
     "data": {
      "image/png": "[encoded data removed]",
      "text/plain": [
       "<Figure size 368x360 with 1 Axes>"
      ]
     },
     "metadata": {},
     "output_type": "display_data"
    }
   ],
   "source": [
    "sns.FacetGrid(trades, size=5).map(sns.distplot, \"close_time_hour\").add_legend();\n",
    "plt.show()"
   ]
  },
  {
   "cell_type": "markdown",
   "metadata": {},
   "source": [
    "#### Obs 5:\n",
    "Trade activity at both open and close are high at 16th, 17th hour of day and very low at early and late hours of day"
   ]
  },
  {
   "cell_type": "code",
   "execution_count": 421,
   "metadata": {},
   "outputs": [
    {
     "data": {
      "image/png": "[encoded data removed]",
      "text/plain": [
       "<Figure size 432x288 with 1 Axes>"
      ]
     },
     "metadata": {},
     "output_type": "display_data"
    }
   ],
   "source": [
    "fig, ax = plt.subplots()\n",
    "pd.DataFrame(trades['trade_time'].dt.days).plot.hist(ax=ax)\n",
    "plt.show()\n"
   ]
  },
  {
   "cell_type": "code",
   "execution_count": 429,
   "metadata": {},
   "outputs": [],
   "source": [
    "trades['trade_days'] = trades['trade_time'].dt.days"
   ]
  },
  {
   "cell_type": "code",
   "execution_count": 420,
   "metadata": {},
   "outputs": [
    {
     "data": {
      "text/plain": [
       "11079"
      ]
     },
     "execution_count": 420,
     "metadata": {},
     "output_type": "execute_result"
    }
   ],
   "source": [
    "sum(trades['trade_time'].dt.days > 0)"
   ]
  },
  {
   "cell_type": "markdown",
   "metadata": {},
   "source": [
    "#### Obs 6:\n",
    "around 90% of trades are completed in same day (intra day)"
   ]
  },
  {
   "cell_type": "code",
   "execution_count": 440,
   "metadata": {},
   "outputs": [
    {
     "data": {
      "image/png": "[encoded data removed]",
      "text/plain": [
       "<Figure size 432x288 with 1 Axes>"
      ]
     },
     "metadata": {},
     "output_type": "display_data"
    }
   ],
   "source": [
    "trades.plot(kind='scatter', x='trade_days', y='open_price');\n",
    "plt.show()\n",
    "# sns.set_style(\"whitegrid\")\n",
    "# sns.FacetGrid(trades, hue='cmd', size=4).map(plt.scatter, 'trade_days','open_price').add_legend();\n",
    "# plt.show()"
   ]
  },
  {
   "cell_type": "code",
   "execution_count": 469,
   "metadata": {},
   "outputs": [],
   "source": [
    "# checking at Financial Instrument level. creating a table with index as symbol\n",
    "\n",
    "symbol_count = trades.groupby('symbol')['ticket_hash'].count()\n",
    "symbol_count = pd.DataFrame(symbol_count).reset_index()\n",
    "symbol_count.columns = ['symbol','count']\n",
    "\n",
    "symbol_price = trades.groupby('symbol')['price_total'].sum()\n",
    "symbol_price = pd.DataFrame(symbol_price).reset_index()\n",
    "symbol_price.columns = ['symbol','price_sum']\n",
    "\n",
    "symbol_size = trades.groupby('symbol')['contractsize'].mean()\n",
    "symbol_size = pd.DataFrame(symbol_size).reset_index()\n",
    "symbol_size.columns = ['symbol','size']\n",
    "\n",
    "symbol_days = trades.groupby('symbol')['trade_days'].mean()\n",
    "symbol_days = pd.DataFrame(symbol_days).reset_index()\n",
    "symbol_days.columns = ['symbol','days']"
   ]
  },
  {
   "cell_type": "code",
   "execution_count": 470,
   "metadata": {},
   "outputs": [
    {
     "data": {
      "text/html": [
       "<div>\n",
       "<style scoped>\n",
       "    .dataframe tbody tr th:only-of-type {\n",
       "        vertical-align: middle;\n",
       "    }\n",
       "\n",
       "    .dataframe tbody tr th {\n",
       "        vertical-align: top;\n",
       "    }\n",
       "\n",
       "    .dataframe thead th {\n",
       "        text-align: right;\n",
       "    }\n",
       "</style>\n",
       "<table border=\"1\" class=\"dataframe\">\n",
       "  <thead>\n",
       "    <tr style=\"text-align: right;\">\n",
       "      <th></th>\n",
       "      <th>symbol</th>\n",
       "      <th>count</th>\n",
       "      <th>price_sum</th>\n",
       "      <th>size</th>\n",
       "      <th>days</th>\n",
       "    </tr>\n",
       "  </thead>\n",
       "  <tbody>\n",
       "    <tr>\n",
       "      <th>0</th>\n",
       "      <td>AUDCAD</td>\n",
       "      <td>665</td>\n",
       "      <td>5.495059e+08</td>\n",
       "      <td>100000.0</td>\n",
       "      <td>46.445113</td>\n",
       "    </tr>\n",
       "    <tr>\n",
       "      <th>1</th>\n",
       "      <td>AUDCHF</td>\n",
       "      <td>115</td>\n",
       "      <td>1.226265e+08</td>\n",
       "      <td>100000.0</td>\n",
       "      <td>38.495652</td>\n",
       "    </tr>\n",
       "    <tr>\n",
       "      <th>2</th>\n",
       "      <td>AUDCNH</td>\n",
       "      <td>4</td>\n",
       "      <td>1.843785e+07</td>\n",
       "      <td>100000.0</td>\n",
       "      <td>183.750000</td>\n",
       "    </tr>\n",
       "    <tr>\n",
       "      <th>3</th>\n",
       "      <td>AUDJPY</td>\n",
       "      <td>238</td>\n",
       "      <td>2.021810e+10</td>\n",
       "      <td>100000.0</td>\n",
       "      <td>18.689076</td>\n",
       "    </tr>\n",
       "    <tr>\n",
       "      <th>4</th>\n",
       "      <td>AUDNZD</td>\n",
       "      <td>1269</td>\n",
       "      <td>1.676735e+09</td>\n",
       "      <td>100000.0</td>\n",
       "      <td>28.642238</td>\n",
       "    </tr>\n",
       "  </tbody>\n",
       "</table>\n",
       "</div>"
      ],
      "text/plain": [
       "   symbol  count     price_sum      size        days\n",
       "0  AUDCAD    665  5.495059e+08  100000.0   46.445113\n",
       "1  AUDCHF    115  1.226265e+08  100000.0   38.495652\n",
       "2  AUDCNH      4  1.843785e+07  100000.0  183.750000\n",
       "3  AUDJPY    238  2.021810e+10  100000.0   18.689076\n",
       "4  AUDNZD   1269  1.676735e+09  100000.0   28.642238"
      ]
     },
     "execution_count": 470,
     "metadata": {},
     "output_type": "execute_result"
    }
   ],
   "source": [
    "trades_symbol = symbol_count.merge(symbol_price, on='symbol').merge(symbol_size, on='symbol').merge(symbol_days, on='symbol')\n",
    "trades_symbol.head()"
   ]
  },
  {
   "cell_type": "code",
   "execution_count": 473,
   "metadata": {},
   "outputs": [
    {
     "data": {
      "text/html": [
       "<div>\n",
       "<style scoped>\n",
       "    .dataframe tbody tr th:only-of-type {\n",
       "        vertical-align: middle;\n",
       "    }\n",
       "\n",
       "    .dataframe tbody tr th {\n",
       "        vertical-align: top;\n",
       "    }\n",
       "\n",
       "    .dataframe thead th {\n",
       "        text-align: right;\n",
       "    }\n",
       "</style>\n",
       "<table border=\"1\" class=\"dataframe\">\n",
       "  <thead>\n",
       "    <tr style=\"text-align: right;\">\n",
       "      <th></th>\n",
       "      <th>symbol</th>\n",
       "      <th>count</th>\n",
       "      <th>price_sum</th>\n",
       "      <th>size</th>\n",
       "      <th>days</th>\n",
       "    </tr>\n",
       "  </thead>\n",
       "  <tbody>\n",
       "    <tr>\n",
       "      <th>67</th>\n",
       "      <td>XAUUSD</td>\n",
       "      <td>49165</td>\n",
       "      <td>1.458982e+11</td>\n",
       "      <td>100.0</td>\n",
       "      <td>37.104404</td>\n",
       "    </tr>\n",
       "    <tr>\n",
       "      <th>26</th>\n",
       "      <td>EURUSD</td>\n",
       "      <td>17609</td>\n",
       "      <td>3.538839e+10</td>\n",
       "      <td>100000.0</td>\n",
       "      <td>31.701630</td>\n",
       "    </tr>\n",
       "    <tr>\n",
       "      <th>35</th>\n",
       "      <td>GBPUSD</td>\n",
       "      <td>6723</td>\n",
       "      <td>1.736670e+10</td>\n",
       "      <td>100000.0</td>\n",
       "      <td>37.406961</td>\n",
       "    </tr>\n",
       "    <tr>\n",
       "      <th>70</th>\n",
       "      <td>XTIUSD</td>\n",
       "      <td>2352</td>\n",
       "      <td>4.415219e+08</td>\n",
       "      <td>100.0</td>\n",
       "      <td>34.426020</td>\n",
       "    </tr>\n",
       "    <tr>\n",
       "      <th>18</th>\n",
       "      <td>EURCHF</td>\n",
       "      <td>1989</td>\n",
       "      <td>8.484966e+09</td>\n",
       "      <td>100000.0</td>\n",
       "      <td>11.553544</td>\n",
       "    </tr>\n",
       "  </tbody>\n",
       "</table>\n",
       "</div>"
      ],
      "text/plain": [
       "    symbol  count     price_sum      size       days\n",
       "67  XAUUSD  49165  1.458982e+11     100.0  37.104404\n",
       "26  EURUSD  17609  3.538839e+10  100000.0  31.701630\n",
       "35  GBPUSD   6723  1.736670e+10  100000.0  37.406961\n",
       "70  XTIUSD   2352  4.415219e+08     100.0  34.426020\n",
       "18  EURCHF   1989  8.484966e+09  100000.0  11.553544"
      ]
     },
     "execution_count": 473,
     "metadata": {},
     "output_type": "execute_result"
    }
   ],
   "source": [
    "trades_symbol.sort_values(by='count', ascending=False).head(5)"
   ]
  },
  {
   "cell_type": "code",
   "execution_count": 472,
   "metadata": {},
   "outputs": [
    {
     "data": {
      "text/plain": [
       "86337"
      ]
     },
     "execution_count": 472,
     "metadata": {},
     "output_type": "execute_result"
    }
   ],
   "source": [
    "trades_symbol.sort_values(by='count', ascending=False)['count'].head(10).sum()"
   ]
  },
  {
   "cell_type": "markdown",
   "metadata": {},
   "source": [
    "#### Obs 7:\n",
    "1. Financial Instrument 'XAUUSD' contributes nearly 50% of total trades.\n",
    "2. 86% of total trades are contributed by top 10 financial instruments"
   ]
  },
  {
   "cell_type": "code",
   "execution_count": 478,
   "metadata": {},
   "outputs": [
    {
     "data": {
      "text/html": [
       "<div>\n",
       "<style scoped>\n",
       "    .dataframe tbody tr th:only-of-type {\n",
       "        vertical-align: middle;\n",
       "    }\n",
       "\n",
       "    .dataframe tbody tr th {\n",
       "        vertical-align: top;\n",
       "    }\n",
       "\n",
       "    .dataframe thead th {\n",
       "        text-align: right;\n",
       "    }\n",
       "</style>\n",
       "<table border=\"1\" class=\"dataframe\">\n",
       "  <thead>\n",
       "    <tr style=\"text-align: right;\">\n",
       "      <th></th>\n",
       "      <th>symbol</th>\n",
       "      <th>count</th>\n",
       "      <th>price_sum</th>\n",
       "      <th>size</th>\n",
       "      <th>days</th>\n",
       "    </tr>\n",
       "  </thead>\n",
       "  <tbody>\n",
       "    <tr>\n",
       "      <th>57</th>\n",
       "      <td>USDJPY</td>\n",
       "      <td>1907</td>\n",
       "      <td>3.921608e+11</td>\n",
       "      <td>100000.0</td>\n",
       "      <td>39.142632</td>\n",
       "    </tr>\n",
       "    <tr>\n",
       "      <th>31</th>\n",
       "      <td>GBPJPY</td>\n",
       "      <td>1869</td>\n",
       "      <td>3.768816e+11</td>\n",
       "      <td>100000.0</td>\n",
       "      <td>37.678438</td>\n",
       "    </tr>\n",
       "    <tr>\n",
       "      <th>67</th>\n",
       "      <td>XAUUSD</td>\n",
       "      <td>49165</td>\n",
       "      <td>1.458982e+11</td>\n",
       "      <td>100.0</td>\n",
       "      <td>37.104404</td>\n",
       "    </tr>\n",
       "    <tr>\n",
       "      <th>13</th>\n",
       "      <td>CHFJPY</td>\n",
       "      <td>859</td>\n",
       "      <td>6.626092e+10</td>\n",
       "      <td>100000.0</td>\n",
       "      <td>21.514552</td>\n",
       "    </tr>\n",
       "    <tr>\n",
       "      <th>22</th>\n",
       "      <td>EURJPY</td>\n",
       "      <td>717</td>\n",
       "      <td>6.263100e+10</td>\n",
       "      <td>100000.0</td>\n",
       "      <td>49.447699</td>\n",
       "    </tr>\n",
       "    <tr>\n",
       "      <th>26</th>\n",
       "      <td>EURUSD</td>\n",
       "      <td>17609</td>\n",
       "      <td>3.538839e+10</td>\n",
       "      <td>100000.0</td>\n",
       "      <td>31.701630</td>\n",
       "    </tr>\n",
       "    <tr>\n",
       "      <th>11</th>\n",
       "      <td>CADJPY</td>\n",
       "      <td>156</td>\n",
       "      <td>2.586109e+10</td>\n",
       "      <td>100000.0</td>\n",
       "      <td>57.615385</td>\n",
       "    </tr>\n",
       "    <tr>\n",
       "      <th>3</th>\n",
       "      <td>AUDJPY</td>\n",
       "      <td>238</td>\n",
       "      <td>2.021810e+10</td>\n",
       "      <td>100000.0</td>\n",
       "      <td>18.689076</td>\n",
       "    </tr>\n",
       "    <tr>\n",
       "      <th>35</th>\n",
       "      <td>GBPUSD</td>\n",
       "      <td>6723</td>\n",
       "      <td>1.736670e+10</td>\n",
       "      <td>100000.0</td>\n",
       "      <td>37.406961</td>\n",
       "    </tr>\n",
       "    <tr>\n",
       "      <th>43</th>\n",
       "      <td>NZDJPY</td>\n",
       "      <td>205</td>\n",
       "      <td>1.136162e+10</td>\n",
       "      <td>100000.0</td>\n",
       "      <td>43.248780</td>\n",
       "    </tr>\n",
       "  </tbody>\n",
       "</table>\n",
       "</div>"
      ],
      "text/plain": [
       "    symbol  count     price_sum      size       days\n",
       "57  USDJPY   1907  3.921608e+11  100000.0  39.142632\n",
       "31  GBPJPY   1869  3.768816e+11  100000.0  37.678438\n",
       "67  XAUUSD  49165  1.458982e+11     100.0  37.104404\n",
       "13  CHFJPY    859  6.626092e+10  100000.0  21.514552\n",
       "22  EURJPY    717  6.263100e+10  100000.0  49.447699\n",
       "26  EURUSD  17609  3.538839e+10  100000.0  31.701630\n",
       "11  CADJPY    156  2.586109e+10  100000.0  57.615385\n",
       "3   AUDJPY    238  2.021810e+10  100000.0  18.689076\n",
       "35  GBPUSD   6723  1.736670e+10  100000.0  37.406961\n",
       "43  NZDJPY    205  1.136162e+10  100000.0  43.248780"
      ]
     },
     "execution_count": 478,
     "metadata": {},
     "output_type": "execute_result"
    }
   ],
   "source": [
    "trades_symbol.sort_values(by='price_sum', ascending=False).head(10)"
   ]
  },
  {
   "cell_type": "code",
   "execution_count": 477,
   "metadata": {},
   "outputs": [
    {
     "data": {
      "text/plain": [
       "0.9717565669722715"
      ]
     },
     "execution_count": 477,
     "metadata": {},
     "output_type": "execute_result"
    }
   ],
   "source": [
    "trades_symbol.sort_values(by='price_sum', ascending=False).head(10)['price_sum'].sum()/trades_symbol['price_sum'].sum()"
   ]
  },
  {
   "cell_type": "code",
   "execution_count": 480,
   "metadata": {
    "scrolled": true
   },
   "outputs": [
    {
     "data": {
      "text/plain": [
       "0.770431246519317"
      ]
     },
     "execution_count": 480,
     "metadata": {},
     "output_type": "execute_result"
    }
   ],
   "source": [
    "trades_symbol.sort_values(by='price_sum', ascending=False).head(3)['price_sum'].sum()/trades_symbol['price_sum'].sum()"
   ]
  },
  {
   "cell_type": "markdown",
   "metadata": {},
   "source": [
    "#### Obs 8:\n",
    "97% of total trade value is contributed by top 10 financial instruments"
   ]
  },
  {
   "cell_type": "code",
   "execution_count": 491,
   "metadata": {},
   "outputs": [
    {
     "data": {
      "text/plain": [
       "<matplotlib.axes._subplots.AxesSubplot at 0x227537eaef0>"
      ]
     },
     "execution_count": 491,
     "metadata": {},
     "output_type": "execute_result"
    },
    {
     "data": {
      "image/png": "[encoded data removed]",
      "text/plain": [
       "<Figure size 432x288 with 1 Axes>"
      ]
     },
     "metadata": {},
     "output_type": "display_data"
    }
   ],
   "source": [
    "# Top 10 Financial instruments distribution by counts\n",
    "trades_symbol.sort_values(by='count',ascending=False)['count'].head(10).plot(kind='bar')"
   ]
  },
  {
   "cell_type": "code",
   "execution_count": 565,
   "metadata": {},
   "outputs": [],
   "source": [
    "# trades_symbol = trades_symbol.reset_index()"
   ]
  },
  {
   "cell_type": "code",
   "execution_count": 502,
   "metadata": {
    "scrolled": true
   },
   "outputs": [
    {
     "data": {
      "text/plain": [
       "<matplotlib.axes._subplots.AxesSubplot at 0x22750e03828>"
      ]
     },
     "execution_count": 502,
     "metadata": {},
     "output_type": "execute_result"
    },
    {
     "data": {
      "image/png": "[encoded data removed]",
      "text/plain": [
       "<Figure size 432x288 with 1 Axes>"
      ]
     },
     "metadata": {},
     "output_type": "display_data"
    }
   ],
   "source": [
    "# Top 10 Financial instruments distribution by total trade value\n",
    "trades_symbol.set_index(\"symbol\").sort_values(by='price_sum',ascending=False)['price_sum'].head(10).plot(kind='bar')"
   ]
  },
  {
   "cell_type": "code",
   "execution_count": 504,
   "metadata": {},
   "outputs": [
    {
     "data": {
      "text/html": [
       "<div>\n",
       "<style scoped>\n",
       "    .dataframe tbody tr th:only-of-type {\n",
       "        vertical-align: middle;\n",
       "    }\n",
       "\n",
       "    .dataframe tbody tr th {\n",
       "        vertical-align: top;\n",
       "    }\n",
       "\n",
       "    .dataframe thead th {\n",
       "        text-align: right;\n",
       "    }\n",
       "</style>\n",
       "<table border=\"1\" class=\"dataframe\">\n",
       "  <thead>\n",
       "    <tr style=\"text-align: right;\">\n",
       "      <th></th>\n",
       "      <th>login_hash</th>\n",
       "      <th>ticket_hash</th>\n",
       "      <th>server_hash</th>\n",
       "      <th>symbol</th>\n",
       "      <th>digits</th>\n",
       "      <th>cmd</th>\n",
       "      <th>volume</th>\n",
       "      <th>open_time</th>\n",
       "      <th>open_price</th>\n",
       "      <th>close_time</th>\n",
       "      <th>contractsize</th>\n",
       "      <th>trade_time</th>\n",
       "      <th>contract_volume</th>\n",
       "      <th>price_total</th>\n",
       "      <th>open_time_hour</th>\n",
       "      <th>close_time_hour</th>\n",
       "      <th>trade_days</th>\n",
       "    </tr>\n",
       "  </thead>\n",
       "  <tbody>\n",
       "    <tr>\n",
       "      <th>83975</th>\n",
       "      <td>EED392EE7932C0E78688C26A4E62DD04</td>\n",
       "      <td>4A8E447413D150B253BCBA3811C7E784</td>\n",
       "      <td>2F1CA40D76D7E6165DBA3924CE0D3B5C</td>\n",
       "      <td>GBPJPY</td>\n",
       "      <td>3</td>\n",
       "      <td>0</td>\n",
       "      <td>1500</td>\n",
       "      <td>2020-08-13 16:26:36</td>\n",
       "      <td>140.110</td>\n",
       "      <td>2020-08-13 17:43:14</td>\n",
       "      <td>100000.0</td>\n",
       "      <td>0 days 01:16:38</td>\n",
       "      <td>150000000.0</td>\n",
       "      <td>2.101650e+10</td>\n",
       "      <td>16</td>\n",
       "      <td>17</td>\n",
       "      <td>0</td>\n",
       "    </tr>\n",
       "    <tr>\n",
       "      <th>17736</th>\n",
       "      <td>822B8D9BC5ED23361C4AEA49B0DDDB0D</td>\n",
       "      <td>08B016DD946ED89126BDA369AA4B27A8</td>\n",
       "      <td>2F1CA40D76D7E6165DBA3924CE0D3B5C</td>\n",
       "      <td>USDJPY</td>\n",
       "      <td>3</td>\n",
       "      <td>1</td>\n",
       "      <td>800</td>\n",
       "      <td>2020-08-10 16:02:15</td>\n",
       "      <td>105.963</td>\n",
       "      <td>2020-08-10 16:06:24</td>\n",
       "      <td>100000.0</td>\n",
       "      <td>0 days 00:04:09</td>\n",
       "      <td>80000000.0</td>\n",
       "      <td>8.477040e+09</td>\n",
       "      <td>16</td>\n",
       "      <td>16</td>\n",
       "      <td>0</td>\n",
       "    </tr>\n",
       "    <tr>\n",
       "      <th>31557</th>\n",
       "      <td>D9C1C0B175CB2AEF962A847E4A29940C</td>\n",
       "      <td>D6F63D32F957D9D07884136FC9621FFB</td>\n",
       "      <td>3D1F7E00251C43107EF39F55300781DB</td>\n",
       "      <td>GBPJPY</td>\n",
       "      <td>3</td>\n",
       "      <td>0</td>\n",
       "      <td>606</td>\n",
       "      <td>2020-08-26 02:23:02</td>\n",
       "      <td>139.859</td>\n",
       "      <td>2020-08-28 07:08:17</td>\n",
       "      <td>100000.0</td>\n",
       "      <td>2 days 04:45:15</td>\n",
       "      <td>60600000.0</td>\n",
       "      <td>8.475455e+09</td>\n",
       "      <td>2</td>\n",
       "      <td>7</td>\n",
       "      <td>2</td>\n",
       "    </tr>\n",
       "    <tr>\n",
       "      <th>60860</th>\n",
       "      <td>54CCAC70F80DA5577AE3B52BA2844328</td>\n",
       "      <td>627AD335BAE20A8F9553D7123E1D57A9</td>\n",
       "      <td>3D1F7E00251C43107EF39F55300781DB</td>\n",
       "      <td>GBPJPY</td>\n",
       "      <td>3</td>\n",
       "      <td>0</td>\n",
       "      <td>500</td>\n",
       "      <td>2020-08-26 17:22:14</td>\n",
       "      <td>140.182</td>\n",
       "      <td>2020-08-27 19:35:59</td>\n",
       "      <td>100000.0</td>\n",
       "      <td>1 days 02:13:45</td>\n",
       "      <td>50000000.0</td>\n",
       "      <td>7.009100e+09</td>\n",
       "      <td>17</td>\n",
       "      <td>19</td>\n",
       "      <td>1</td>\n",
       "    </tr>\n",
       "    <tr>\n",
       "      <th>15646</th>\n",
       "      <td>EC4ED4209BB995DBF0819D738377D964</td>\n",
       "      <td>70CFC5E11554691B958D704E2AC90F74</td>\n",
       "      <td>3D1F7E00251C43107EF39F55300781DB</td>\n",
       "      <td>GBPJPY</td>\n",
       "      <td>3</td>\n",
       "      <td>1</td>\n",
       "      <td>452</td>\n",
       "      <td>2020-08-20 15:57:47</td>\n",
       "      <td>138.812</td>\n",
       "      <td>2020-08-21 07:43:40</td>\n",
       "      <td>100000.0</td>\n",
       "      <td>0 days 15:45:53</td>\n",
       "      <td>45200000.0</td>\n",
       "      <td>6.274302e+09</td>\n",
       "      <td>15</td>\n",
       "      <td>7</td>\n",
       "      <td>0</td>\n",
       "    </tr>\n",
       "  </tbody>\n",
       "</table>\n",
       "</div>"
      ],
      "text/plain": [
       "                             login_hash                       ticket_hash  \\\n",
       "83975  EED392EE7932C0E78688C26A4E62DD04  4A8E447413D150B253BCBA3811C7E784   \n",
       "17736  822B8D9BC5ED23361C4AEA49B0DDDB0D  08B016DD946ED89126BDA369AA4B27A8   \n",
       "31557  D9C1C0B175CB2AEF962A847E4A29940C  D6F63D32F957D9D07884136FC9621FFB   \n",
       "60860  54CCAC70F80DA5577AE3B52BA2844328  627AD335BAE20A8F9553D7123E1D57A9   \n",
       "15646  EC4ED4209BB995DBF0819D738377D964  70CFC5E11554691B958D704E2AC90F74   \n",
       "\n",
       "                            server_hash  symbol  digits  cmd  volume  \\\n",
       "83975  2F1CA40D76D7E6165DBA3924CE0D3B5C  GBPJPY       3    0    1500   \n",
       "17736  2F1CA40D76D7E6165DBA3924CE0D3B5C  USDJPY       3    1     800   \n",
       "31557  3D1F7E00251C43107EF39F55300781DB  GBPJPY       3    0     606   \n",
       "60860  3D1F7E00251C43107EF39F55300781DB  GBPJPY       3    0     500   \n",
       "15646  3D1F7E00251C43107EF39F55300781DB  GBPJPY       3    1     452   \n",
       "\n",
       "                open_time  open_price          close_time  contractsize  \\\n",
       "83975 2020-08-13 16:26:36     140.110 2020-08-13 17:43:14      100000.0   \n",
       "17736 2020-08-10 16:02:15     105.963 2020-08-10 16:06:24      100000.0   \n",
       "31557 2020-08-26 02:23:02     139.859 2020-08-28 07:08:17      100000.0   \n",
       "60860 2020-08-26 17:22:14     140.182 2020-08-27 19:35:59      100000.0   \n",
       "15646 2020-08-20 15:57:47     138.812 2020-08-21 07:43:40      100000.0   \n",
       "\n",
       "           trade_time  contract_volume   price_total  open_time_hour  \\\n",
       "83975 0 days 01:16:38      150000000.0  2.101650e+10              16   \n",
       "17736 0 days 00:04:09       80000000.0  8.477040e+09              16   \n",
       "31557 2 days 04:45:15       60600000.0  8.475455e+09               2   \n",
       "60860 1 days 02:13:45       50000000.0  7.009100e+09              17   \n",
       "15646 0 days 15:45:53       45200000.0  6.274302e+09              15   \n",
       "\n",
       "       close_time_hour  trade_days  \n",
       "83975               17           0  \n",
       "17736               16           0  \n",
       "31557                7           2  \n",
       "60860               19           1  \n",
       "15646                7           0  "
      ]
     },
     "execution_count": 504,
     "metadata": {},
     "output_type": "execute_result"
    }
   ],
   "source": [
    "trades.sort_values(by='price_total',ascending=False).head()"
   ]
  },
  {
   "cell_type": "markdown",
   "metadata": {},
   "source": [
    "#### Userid level"
   ]
  },
  {
   "cell_type": "code",
   "execution_count": 505,
   "metadata": {},
   "outputs": [],
   "source": [
    "userid_count = trades.groupby('login_hash')['ticket_hash'].count()\n",
    "userid_count = pd.DataFrame(userid_count).reset_index()\n",
    "userid_count.columns = ['login_hash','count']\n",
    "\n",
    "userid_price = trades.groupby('login_hash')['price_total'].sum()\n",
    "userid_price = pd.DataFrame(userid_price).reset_index()\n",
    "userid_price.columns = ['login_hash','price_sum']\n",
    "\n",
    "userid_days = trades.groupby('login_hash')['trade_days'].mean()\n",
    "userid_days = pd.DataFrame(userid_days).reset_index()\n",
    "userid_days.columns = ['login_hash','days']"
   ]
  },
  {
   "cell_type": "code",
   "execution_count": 507,
   "metadata": {},
   "outputs": [
    {
     "data": {
      "text/html": [
       "<div>\n",
       "<style scoped>\n",
       "    .dataframe tbody tr th:only-of-type {\n",
       "        vertical-align: middle;\n",
       "    }\n",
       "\n",
       "    .dataframe tbody tr th {\n",
       "        vertical-align: top;\n",
       "    }\n",
       "\n",
       "    .dataframe thead th {\n",
       "        text-align: right;\n",
       "    }\n",
       "</style>\n",
       "<table border=\"1\" class=\"dataframe\">\n",
       "  <thead>\n",
       "    <tr style=\"text-align: right;\">\n",
       "      <th></th>\n",
       "      <th>login_hash</th>\n",
       "      <th>count</th>\n",
       "      <th>price_sum</th>\n",
       "      <th>days</th>\n",
       "    </tr>\n",
       "  </thead>\n",
       "  <tbody>\n",
       "    <tr>\n",
       "      <th>0</th>\n",
       "      <td>000BD6BD2A7D5C493B160B0797D04084</td>\n",
       "      <td>16</td>\n",
       "      <td>75575382.0</td>\n",
       "      <td>0.000000</td>\n",
       "    </tr>\n",
       "    <tr>\n",
       "      <th>1</th>\n",
       "      <td>0017A6EB11E5D45F8CF08856FBCBD51A</td>\n",
       "      <td>4</td>\n",
       "      <td>11073018.0</td>\n",
       "      <td>260.250000</td>\n",
       "    </tr>\n",
       "    <tr>\n",
       "      <th>2</th>\n",
       "      <td>0033D6A63E8CD5F792D7FE32842D7723</td>\n",
       "      <td>18</td>\n",
       "      <td>561929413.0</td>\n",
       "      <td>0.277778</td>\n",
       "    </tr>\n",
       "    <tr>\n",
       "      <th>3</th>\n",
       "      <td>004FF7AC9631AF628BD9C496F3C6214F</td>\n",
       "      <td>54</td>\n",
       "      <td>57821881.0</td>\n",
       "      <td>27.111111</td>\n",
       "    </tr>\n",
       "    <tr>\n",
       "      <th>4</th>\n",
       "      <td>00590B590F3C408B69314C1D40483475</td>\n",
       "      <td>21</td>\n",
       "      <td>30903861.0</td>\n",
       "      <td>69.809524</td>\n",
       "    </tr>\n",
       "  </tbody>\n",
       "</table>\n",
       "</div>"
      ],
      "text/plain": [
       "                         login_hash  count    price_sum        days\n",
       "0  000BD6BD2A7D5C493B160B0797D04084     16   75575382.0    0.000000\n",
       "1  0017A6EB11E5D45F8CF08856FBCBD51A      4   11073018.0  260.250000\n",
       "2  0033D6A63E8CD5F792D7FE32842D7723     18  561929413.0    0.277778\n",
       "3  004FF7AC9631AF628BD9C496F3C6214F     54   57821881.0   27.111111\n",
       "4  00590B590F3C408B69314C1D40483475     21   30903861.0   69.809524"
      ]
     },
     "execution_count": 507,
     "metadata": {},
     "output_type": "execute_result"
    }
   ],
   "source": [
    "trades_userid = userid_count.merge(userid_price, on='login_hash').merge(userid_days, on='login_hash')\n",
    "trades_userid.head()"
   ]
  },
  {
   "cell_type": "code",
   "execution_count": 508,
   "metadata": {},
   "outputs": [
    {
     "data": {
      "text/html": [
       "<div>\n",
       "<style scoped>\n",
       "    .dataframe tbody tr th:only-of-type {\n",
       "        vertical-align: middle;\n",
       "    }\n",
       "\n",
       "    .dataframe tbody tr th {\n",
       "        vertical-align: top;\n",
       "    }\n",
       "\n",
       "    .dataframe thead th {\n",
       "        text-align: right;\n",
       "    }\n",
       "</style>\n",
       "<table border=\"1\" class=\"dataframe\">\n",
       "  <thead>\n",
       "    <tr style=\"text-align: right;\">\n",
       "      <th></th>\n",
       "      <th>login_hash</th>\n",
       "      <th>count</th>\n",
       "      <th>price_sum</th>\n",
       "      <th>days</th>\n",
       "    </tr>\n",
       "  </thead>\n",
       "  <tbody>\n",
       "    <tr>\n",
       "      <th>524</th>\n",
       "      <td>18D4C2E739573770F9DF198F0E51C1B9</td>\n",
       "      <td>1223</td>\n",
       "      <td>8.887250e+08</td>\n",
       "      <td>11.946852</td>\n",
       "    </tr>\n",
       "    <tr>\n",
       "      <th>3996</th>\n",
       "      <td>C686A5D43B23891AE5790E72471B8FBA</td>\n",
       "      <td>1215</td>\n",
       "      <td>5.042692e+09</td>\n",
       "      <td>36.651852</td>\n",
       "    </tr>\n",
       "    <tr>\n",
       "      <th>4193</th>\n",
       "      <td>D217892DFCA7F7B273CDDF8E5CEA7048</td>\n",
       "      <td>764</td>\n",
       "      <td>4.810464e+09</td>\n",
       "      <td>17.198953</td>\n",
       "    </tr>\n",
       "    <tr>\n",
       "      <th>2835</th>\n",
       "      <td>8E5C603A37FE4B44BEB4329635F8BD96</td>\n",
       "      <td>607</td>\n",
       "      <td>2.540206e+10</td>\n",
       "      <td>29.036244</td>\n",
       "    </tr>\n",
       "    <tr>\n",
       "      <th>3886</th>\n",
       "      <td>C20DA42EABAC371D972E78CEB25534F7</td>\n",
       "      <td>576</td>\n",
       "      <td>1.512953e+09</td>\n",
       "      <td>30.621528</td>\n",
       "    </tr>\n",
       "  </tbody>\n",
       "</table>\n",
       "</div>"
      ],
      "text/plain": [
       "                            login_hash  count     price_sum       days\n",
       "524   18D4C2E739573770F9DF198F0E51C1B9   1223  8.887250e+08  11.946852\n",
       "3996  C686A5D43B23891AE5790E72471B8FBA   1215  5.042692e+09  36.651852\n",
       "4193  D217892DFCA7F7B273CDDF8E5CEA7048    764  4.810464e+09  17.198953\n",
       "2835  8E5C603A37FE4B44BEB4329635F8BD96    607  2.540206e+10  29.036244\n",
       "3886  C20DA42EABAC371D972E78CEB25534F7    576  1.512953e+09  30.621528"
      ]
     },
     "execution_count": 508,
     "metadata": {},
     "output_type": "execute_result"
    }
   ],
   "source": [
    "trades_userid.sort_values(by='count', ascending=False).head()"
   ]
  },
  {
   "cell_type": "code",
   "execution_count": 509,
   "metadata": {},
   "outputs": [
    {
     "data": {
      "text/html": [
       "<div>\n",
       "<style scoped>\n",
       "    .dataframe tbody tr th:only-of-type {\n",
       "        vertical-align: middle;\n",
       "    }\n",
       "\n",
       "    .dataframe tbody tr th {\n",
       "        vertical-align: top;\n",
       "    }\n",
       "\n",
       "    .dataframe thead th {\n",
       "        text-align: right;\n",
       "    }\n",
       "</style>\n",
       "<table border=\"1\" class=\"dataframe\">\n",
       "  <thead>\n",
       "    <tr style=\"text-align: right;\">\n",
       "      <th></th>\n",
       "      <th>login_hash</th>\n",
       "      <th>count</th>\n",
       "      <th>price_sum</th>\n",
       "      <th>days</th>\n",
       "    </tr>\n",
       "  </thead>\n",
       "  <tbody>\n",
       "    <tr>\n",
       "      <th>57</th>\n",
       "      <td>02D69618D9DBFF1BBFFA4EDCA73B2309</td>\n",
       "      <td>108</td>\n",
       "      <td>8.003570e+10</td>\n",
       "      <td>40.564815</td>\n",
       "    </tr>\n",
       "    <tr>\n",
       "      <th>4774</th>\n",
       "      <td>EED392EE7932C0E78688C26A4E62DD04</td>\n",
       "      <td>21</td>\n",
       "      <td>4.478466e+10</td>\n",
       "      <td>0.047619</td>\n",
       "    </tr>\n",
       "    <tr>\n",
       "      <th>2835</th>\n",
       "      <td>8E5C603A37FE4B44BEB4329635F8BD96</td>\n",
       "      <td>607</td>\n",
       "      <td>2.540206e+10</td>\n",
       "      <td>29.036244</td>\n",
       "    </tr>\n",
       "    <tr>\n",
       "      <th>3992</th>\n",
       "      <td>C67033718DBDE3B01665C2E4C18129CE</td>\n",
       "      <td>17</td>\n",
       "      <td>1.910773e+10</td>\n",
       "      <td>48.235294</td>\n",
       "    </tr>\n",
       "    <tr>\n",
       "      <th>1713</th>\n",
       "      <td>54CCAC70F80DA5577AE3B52BA2844328</td>\n",
       "      <td>4</td>\n",
       "      <td>1.812632e+10</td>\n",
       "      <td>183.000000</td>\n",
       "    </tr>\n",
       "  </tbody>\n",
       "</table>\n",
       "</div>"
      ],
      "text/plain": [
       "                            login_hash  count     price_sum        days\n",
       "57    02D69618D9DBFF1BBFFA4EDCA73B2309    108  8.003570e+10   40.564815\n",
       "4774  EED392EE7932C0E78688C26A4E62DD04     21  4.478466e+10    0.047619\n",
       "2835  8E5C603A37FE4B44BEB4329635F8BD96    607  2.540206e+10   29.036244\n",
       "3992  C67033718DBDE3B01665C2E4C18129CE     17  1.910773e+10   48.235294\n",
       "1713  54CCAC70F80DA5577AE3B52BA2844328      4  1.812632e+10  183.000000"
      ]
     },
     "execution_count": 509,
     "metadata": {},
     "output_type": "execute_result"
    }
   ],
   "source": [
    "trades_userid.sort_values(by='price_sum', ascending=False).head()"
   ]
  },
  {
   "cell_type": "code",
   "execution_count": 512,
   "metadata": {},
   "outputs": [
    {
     "data": {
      "text/plain": [
       "0.21496720935175295"
      ]
     },
     "execution_count": 512,
     "metadata": {},
     "output_type": "execute_result"
    }
   ],
   "source": [
    "trades_userid.sort_values(by='price_sum', ascending=False).head(10)['price_sum'].sum()/trades_userid['price_sum'].sum()"
   ]
  },
  {
   "cell_type": "markdown",
   "metadata": {},
   "source": [
    "## Users"
   ]
  },
  {
   "cell_type": "code",
   "execution_count": 59,
   "metadata": {},
   "outputs": [
    {
     "data": {
      "text/plain": [
       "login_hash      0\n",
       "server_hash     0\n",
       "country_hash    0\n",
       "currency        0\n",
       "enable          0\n",
       "dtype: int64"
      ]
     },
     "execution_count": 59,
     "metadata": {},
     "output_type": "execute_result"
    }
   ],
   "source": [
    "users.isnull().sum()"
   ]
  },
  {
   "cell_type": "code",
   "execution_count": 18,
   "metadata": {},
   "outputs": [],
   "source": [
    "users_dp = users.drop_duplicates()"
   ]
  },
  {
   "cell_type": "code",
   "execution_count": 19,
   "metadata": {},
   "outputs": [
    {
     "data": {
      "text/plain": [
       "(666, 5)"
      ]
     },
     "execution_count": 19,
     "metadata": {},
     "output_type": "execute_result"
    }
   ],
   "source": [
    "users_dp.shape"
   ]
  },
  {
   "cell_type": "markdown",
   "metadata": {},
   "source": [
    "### Issue 5 \n",
    "334 duplicates present in the users table"
   ]
  },
  {
   "cell_type": "code",
   "execution_count": 139,
   "metadata": {
    "collapsed": true
   },
   "outputs": [
    {
     "data": {
      "text/html": [
       "<style  type=\"text/css\" >\n",
       "    #T_c64afe98_236a_11ec_a987_b870f430cb0crow0_col0 {\n",
       "            width:  10em;\n",
       "             height:  80%;\n",
       "            background:  linear-gradient(90deg,#d65f5f 100.0%, transparent 0%);\n",
       "        }    #T_c64afe98_236a_11ec_a987_b870f430cb0crow1_col0 {\n",
       "            width:  10em;\n",
       "             height:  80%;\n",
       "            background:  linear-gradient(90deg,#d65f5f 18.1%, transparent 0%);\n",
       "        }    #T_c64afe98_236a_11ec_a987_b870f430cb0crow2_col0 {\n",
       "            width:  10em;\n",
       "             height:  80%;\n",
       "            background:  linear-gradient(90deg,#d65f5f 6.4%, transparent 0%);\n",
       "        }    #T_c64afe98_236a_11ec_a987_b870f430cb0crow3_col0 {\n",
       "            width:  10em;\n",
       "             height:  80%;\n",
       "            background:  linear-gradient(90deg,#d65f5f 2.3%, transparent 0%);\n",
       "        }    #T_c64afe98_236a_11ec_a987_b870f430cb0crow4_col0 {\n",
       "            width:  10em;\n",
       "             height:  80%;\n",
       "            background:  linear-gradient(90deg,#d65f5f 2.1%, transparent 0%);\n",
       "        }    #T_c64afe98_236a_11ec_a987_b870f430cb0crow5_col0 {\n",
       "            width:  10em;\n",
       "             height:  80%;\n",
       "            background:  linear-gradient(90deg,#d65f5f 1.9%, transparent 0%);\n",
       "        }    #T_c64afe98_236a_11ec_a987_b870f430cb0crow6_col0 {\n",
       "            width:  10em;\n",
       "             height:  80%;\n",
       "            background:  linear-gradient(90deg,#d65f5f 1.9%, transparent 0%);\n",
       "        }    #T_c64afe98_236a_11ec_a987_b870f430cb0crow7_col0 {\n",
       "            width:  10em;\n",
       "             height:  80%;\n",
       "            background:  linear-gradient(90deg,#d65f5f 1.5%, transparent 0%);\n",
       "        }    #T_c64afe98_236a_11ec_a987_b870f430cb0crow8_col0 {\n",
       "            width:  10em;\n",
       "             height:  80%;\n",
       "            background:  linear-gradient(90deg,#d65f5f 1.3%, transparent 0%);\n",
       "        }    #T_c64afe98_236a_11ec_a987_b870f430cb0crow9_col0 {\n",
       "            width:  10em;\n",
       "             height:  80%;\n",
       "            background:  linear-gradient(90deg,#d65f5f 0.9%, transparent 0%);\n",
       "        }    #T_c64afe98_236a_11ec_a987_b870f430cb0crow10_col0 {\n",
       "            width:  10em;\n",
       "             height:  80%;\n",
       "            background:  linear-gradient(90deg,#d65f5f 0.4%, transparent 0%);\n",
       "        }    #T_c64afe98_236a_11ec_a987_b870f430cb0crow11_col0 {\n",
       "            width:  10em;\n",
       "             height:  80%;\n",
       "            background:  linear-gradient(90deg,#d65f5f 0.2%, transparent 0%);\n",
       "        }    #T_c64afe98_236a_11ec_a987_b870f430cb0crow12_col0 {\n",
       "            width:  10em;\n",
       "             height:  80%;\n",
       "            background:  linear-gradient(90deg,#d65f5f 0.2%, transparent 0%);\n",
       "        }    #T_c64afe98_236a_11ec_a987_b870f430cb0crow13_col0 {\n",
       "            width:  10em;\n",
       "             height:  80%;\n",
       "            background:  linear-gradient(90deg,#d65f5f 0.2%, transparent 0%);\n",
       "        }    #T_c64afe98_236a_11ec_a987_b870f430cb0crow14_col0 {\n",
       "            width:  10em;\n",
       "             height:  80%;\n",
       "            background:  linear-gradient(90deg,#d65f5f 0.2%, transparent 0%);\n",
       "        }    #T_c64afe98_236a_11ec_a987_b870f430cb0crow15_col0 {\n",
       "            width:  10em;\n",
       "             height:  80%;\n",
       "        }    #T_c64afe98_236a_11ec_a987_b870f430cb0crow16_col0 {\n",
       "            width:  10em;\n",
       "             height:  80%;\n",
       "        }    #T_c64afe98_236a_11ec_a987_b870f430cb0crow17_col0 {\n",
       "            width:  10em;\n",
       "             height:  80%;\n",
       "        }    #T_c64afe98_236a_11ec_a987_b870f430cb0crow18_col0 {\n",
       "            width:  10em;\n",
       "             height:  80%;\n",
       "        }</style>  \n",
       "<table id=\"T_c64afe98_236a_11ec_a987_b870f430cb0c\" > \n",
       "<thead>    <tr> \n",
       "        <th class=\"blank level0\" ></th> \n",
       "        <th class=\"col_heading level0 col0\" >country_hash</th> \n",
       "    </tr></thead> \n",
       "<tbody>    <tr> \n",
       "        <th id=\"T_c64afe98_236a_11ec_a987_b870f430cb0clevel0_row0\" class=\"row_heading level0 row0\" >AE54A5C026F31ADA088992587D92CB3A</th> \n",
       "        <td id=\"T_c64afe98_236a_11ec_a987_b870f430cb0crow0_col0\" class=\"data row0 col0\" >471</td> \n",
       "    </tr>    <tr> \n",
       "        <th id=\"T_c64afe98_236a_11ec_a987_b870f430cb0clevel0_row1\" class=\"row_heading level0 row1\" >4442E4AF0916F53A07FB8CA9A49B98ED</th> \n",
       "        <td id=\"T_c64afe98_236a_11ec_a987_b870f430cb0crow1_col0\" class=\"data row1 col0\" >86</td> \n",
       "    </tr>    <tr> \n",
       "        <th id=\"T_c64afe98_236a_11ec_a987_b870f430cb0clevel0_row2\" class=\"row_heading level0 row2\" >551FE18EF47D4E6E9D943B9A68ADA21D</th> \n",
       "        <td id=\"T_c64afe98_236a_11ec_a987_b870f430cb0crow2_col0\" class=\"data row2 col0\" >31</td> \n",
       "    </tr>    <tr> \n",
       "        <th id=\"T_c64afe98_236a_11ec_a987_b870f430cb0clevel0_row3\" class=\"row_heading level0 row3\" >FDEF6DAA799E80DBCE1B561577B21181</th> \n",
       "        <td id=\"T_c64afe98_236a_11ec_a987_b870f430cb0crow3_col0\" class=\"data row3 col0\" >12</td> \n",
       "    </tr>    <tr> \n",
       "        <th id=\"T_c64afe98_236a_11ec_a987_b870f430cb0clevel0_row4\" class=\"row_heading level0 row4\" >C51ED580EA5E20C910D951F692512B4D</th> \n",
       "        <td id=\"T_c64afe98_236a_11ec_a987_b870f430cb0crow4_col0\" class=\"data row4 col0\" >11</td> \n",
       "    </tr>    <tr> \n",
       "        <th id=\"T_c64afe98_236a_11ec_a987_b870f430cb0clevel0_row5\" class=\"row_heading level0 row5\" >77DAB2F81A6C8C9136EFBA7AB2C4C0F2</th> \n",
       "        <td id=\"T_c64afe98_236a_11ec_a987_b870f430cb0crow5_col0\" class=\"data row5 col0\" >10</td> \n",
       "    </tr>    <tr> \n",
       "        <th id=\"T_c64afe98_236a_11ec_a987_b870f430cb0clevel0_row6\" class=\"row_heading level0 row6\" >4A2581E346483DA488A11C4B2D2DE97E</th> \n",
       "        <td id=\"T_c64afe98_236a_11ec_a987_b870f430cb0crow6_col0\" class=\"data row6 col0\" >10</td> \n",
       "    </tr>    <tr> \n",
       "        <th id=\"T_c64afe98_236a_11ec_a987_b870f430cb0clevel0_row7\" class=\"row_heading level0 row7\" >3F0E49C46CBDE0C7ADF5EA04A97AB261</th> \n",
       "        <td id=\"T_c64afe98_236a_11ec_a987_b870f430cb0crow7_col0\" class=\"data row7 col0\" >8</td> \n",
       "    </tr>    <tr> \n",
       "        <th id=\"T_c64afe98_236a_11ec_a987_b870f430cb0clevel0_row8\" class=\"row_heading level0 row8\" >89F9C9F489BE2A83CF57E53B9197D288</th> \n",
       "        <td id=\"T_c64afe98_236a_11ec_a987_b870f430cb0crow8_col0\" class=\"data row8 col0\" >7</td> \n",
       "    </tr>    <tr> \n",
       "        <th id=\"T_c64afe98_236a_11ec_a987_b870f430cb0clevel0_row9\" class=\"row_heading level0 row9\" >D1937220A4F6A24A5A9BAF2978211F98</th> \n",
       "        <td id=\"T_c64afe98_236a_11ec_a987_b870f430cb0crow9_col0\" class=\"data row9 col0\" >5</td> \n",
       "    </tr>    <tr> \n",
       "        <th id=\"T_c64afe98_236a_11ec_a987_b870f430cb0clevel0_row10\" class=\"row_heading level0 row10\" >907EBA32D950BFAB68227FD7EA22999B</th> \n",
       "        <td id=\"T_c64afe98_236a_11ec_a987_b870f430cb0crow10_col0\" class=\"data row10 col0\" >3</td> \n",
       "    </tr>    <tr> \n",
       "        <th id=\"T_c64afe98_236a_11ec_a987_b870f430cb0clevel0_row11\" class=\"row_heading level0 row11\" >103357E3E40A9C0E4E9D36110F7BBC7A</th> \n",
       "        <td id=\"T_c64afe98_236a_11ec_a987_b870f430cb0crow11_col0\" class=\"data row11 col0\" >2</td> \n",
       "    </tr>    <tr> \n",
       "        <th id=\"T_c64afe98_236a_11ec_a987_b870f430cb0clevel0_row12\" class=\"row_heading level0 row12\" >221CDFB73049678E244380B45872CBB2</th> \n",
       "        <td id=\"T_c64afe98_236a_11ec_a987_b870f430cb0crow12_col0\" class=\"data row12 col0\" >2</td> \n",
       "    </tr>    <tr> \n",
       "        <th id=\"T_c64afe98_236a_11ec_a987_b870f430cb0clevel0_row13\" class=\"row_heading level0 row13\" >06C7A3C3A3344A62864B951AEC4DF830</th> \n",
       "        <td id=\"T_c64afe98_236a_11ec_a987_b870f430cb0crow13_col0\" class=\"data row13 col0\" >2</td> \n",
       "    </tr>    <tr> \n",
       "        <th id=\"T_c64afe98_236a_11ec_a987_b870f430cb0clevel0_row14\" class=\"row_heading level0 row14\" >458E4CBC78201C1AEC5FC53A31C59378</th> \n",
       "        <td id=\"T_c64afe98_236a_11ec_a987_b870f430cb0crow14_col0\" class=\"data row14 col0\" >2</td> \n",
       "    </tr>    <tr> \n",
       "        <th id=\"T_c64afe98_236a_11ec_a987_b870f430cb0clevel0_row15\" class=\"row_heading level0 row15\" >8F6F28F0D2061AF28BCF49D1725B2CBD</th> \n",
       "        <td id=\"T_c64afe98_236a_11ec_a987_b870f430cb0crow15_col0\" class=\"data row15 col0\" >1</td> \n",
       "    </tr>    <tr> \n",
       "        <th id=\"T_c64afe98_236a_11ec_a987_b870f430cb0clevel0_row16\" class=\"row_heading level0 row16\" >A8F809C99C4A996780C3046B9B594195</th> \n",
       "        <td id=\"T_c64afe98_236a_11ec_a987_b870f430cb0crow16_col0\" class=\"data row16 col0\" >1</td> \n",
       "    </tr>    <tr> \n",
       "        <th id=\"T_c64afe98_236a_11ec_a987_b870f430cb0clevel0_row17\" class=\"row_heading level0 row17\" >A67D4CBDD1B59E0FFCCC6BAFC83EB033</th> \n",
       "        <td id=\"T_c64afe98_236a_11ec_a987_b870f430cb0crow17_col0\" class=\"data row17 col0\" >1</td> \n",
       "    </tr>    <tr> \n",
       "        <th id=\"T_c64afe98_236a_11ec_a987_b870f430cb0clevel0_row18\" class=\"row_heading level0 row18\" >0309A6C666A7A803FDB9DB95DE71CF01</th> \n",
       "        <td id=\"T_c64afe98_236a_11ec_a987_b870f430cb0crow18_col0\" class=\"data row18 col0\" >1</td> \n",
       "    </tr></tbody> \n",
       "</table> "
      ],
      "text/plain": [
       "<pandas.io.formats.style.Styler at 0x227508ac400>"
      ]
     },
     "execution_count": 139,
     "metadata": {},
     "output_type": "execute_result"
    }
   ],
   "source": [
    "users_dp['country_hash'].value_counts().to_frame().style.bar()"
   ]
  },
  {
   "cell_type": "code",
   "execution_count": 140,
   "metadata": {},
   "outputs": [
    {
     "data": {
      "text/html": [
       "<style  type=\"text/css\" >\n",
       "    #T_d13c9dc6_236a_11ec_990c_b870f430cb0crow0_col0 {\n",
       "            width:  10em;\n",
       "             height:  80%;\n",
       "            background:  linear-gradient(90deg,#d65f5f 100.0%, transparent 0%);\n",
       "        }    #T_d13c9dc6_236a_11ec_990c_b870f430cb0crow1_col0 {\n",
       "            width:  10em;\n",
       "             height:  80%;\n",
       "            background:  linear-gradient(90deg,#d65f5f 11.1%, transparent 0%);\n",
       "        }    #T_d13c9dc6_236a_11ec_990c_b870f430cb0crow2_col0 {\n",
       "            width:  10em;\n",
       "             height:  80%;\n",
       "            background:  linear-gradient(90deg,#d65f5f 0.2%, transparent 0%);\n",
       "        }    #T_d13c9dc6_236a_11ec_990c_b870f430cb0crow3_col0 {\n",
       "            width:  10em;\n",
       "             height:  80%;\n",
       "        }</style>  \n",
       "<table id=\"T_d13c9dc6_236a_11ec_990c_b870f430cb0c\" > \n",
       "<thead>    <tr> \n",
       "        <th class=\"blank level0\" ></th> \n",
       "        <th class=\"col_heading level0 col0\" >currency</th> \n",
       "    </tr></thead> \n",
       "<tbody>    <tr> \n",
       "        <th id=\"T_d13c9dc6_236a_11ec_990c_b870f430cb0clevel0_row0\" class=\"row_heading level0 row0\" >USD</th> \n",
       "        <td id=\"T_d13c9dc6_236a_11ec_990c_b870f430cb0crow0_col0\" class=\"data row0 col0\" >596</td> \n",
       "    </tr>    <tr> \n",
       "        <th id=\"T_d13c9dc6_236a_11ec_990c_b870f430cb0clevel0_row1\" class=\"row_heading level0 row1\" >AUD</th> \n",
       "        <td id=\"T_d13c9dc6_236a_11ec_990c_b870f430cb0crow1_col0\" class=\"data row1 col0\" >67</td> \n",
       "    </tr>    <tr> \n",
       "        <th id=\"T_d13c9dc6_236a_11ec_990c_b870f430cb0clevel0_row2\" class=\"row_heading level0 row2\" >NZD</th> \n",
       "        <td id=\"T_d13c9dc6_236a_11ec_990c_b870f430cb0crow2_col0\" class=\"data row2 col0\" >2</td> \n",
       "    </tr>    <tr> \n",
       "        <th id=\"T_d13c9dc6_236a_11ec_990c_b870f430cb0clevel0_row3\" class=\"row_heading level0 row3\" >EUR</th> \n",
       "        <td id=\"T_d13c9dc6_236a_11ec_990c_b870f430cb0crow3_col0\" class=\"data row3 col0\" >1</td> \n",
       "    </tr></tbody> \n",
       "</table> "
      ],
      "text/plain": [
       "<pandas.io.formats.style.Styler at 0x22750a10208>"
      ]
     },
     "execution_count": 140,
     "metadata": {},
     "output_type": "execute_result"
    }
   ],
   "source": [
    "users_dp['currency'].value_counts().to_frame().style.bar()"
   ]
  },
  {
   "cell_type": "code",
   "execution_count": 141,
   "metadata": {},
   "outputs": [
    {
     "data": {
      "text/html": [
       "<style  type=\"text/css\" >\n",
       "    #T_ded09738_236a_11ec_aed5_b870f430cb0crow0_col0 {\n",
       "            width:  10em;\n",
       "             height:  80%;\n",
       "            background:  linear-gradient(90deg,#d65f5f 100.0%, transparent 0%);\n",
       "        }    #T_ded09738_236a_11ec_aed5_b870f430cb0crow1_col0 {\n",
       "            width:  10em;\n",
       "             height:  80%;\n",
       "        }</style>  \n",
       "<table id=\"T_ded09738_236a_11ec_aed5_b870f430cb0c\" > \n",
       "<thead>    <tr> \n",
       "        <th class=\"blank level0\" ></th> \n",
       "        <th class=\"col_heading level0 col0\" >enable</th> \n",
       "    </tr></thead> \n",
       "<tbody>    <tr> \n",
       "        <th id=\"T_ded09738_236a_11ec_aed5_b870f430cb0clevel0_row0\" class=\"row_heading level0 row0\" >1</th> \n",
       "        <td id=\"T_ded09738_236a_11ec_aed5_b870f430cb0crow0_col0\" class=\"data row0 col0\" >644</td> \n",
       "    </tr>    <tr> \n",
       "        <th id=\"T_ded09738_236a_11ec_aed5_b870f430cb0clevel0_row1\" class=\"row_heading level0 row1\" >0</th> \n",
       "        <td id=\"T_ded09738_236a_11ec_aed5_b870f430cb0crow1_col0\" class=\"data row1 col0\" >22</td> \n",
       "    </tr></tbody> \n",
       "</table> "
      ],
      "text/plain": [
       "<pandas.io.formats.style.Styler at 0x227508ac550>"
      ]
     },
     "execution_count": 141,
     "metadata": {},
     "output_type": "execute_result"
    }
   ],
   "source": [
    "users_dp['enable'].value_counts().to_frame().style.bar()"
   ]
  },
  {
   "cell_type": "markdown",
   "metadata": {},
   "source": [
    "#### Obs 10:\n",
    "90% of accounts currency is USD and almost all accounts are login enabled"
   ]
  },
  {
   "cell_type": "markdown",
   "metadata": {},
   "source": [
    "# K Means"
   ]
  },
  {
   "cell_type": "code",
   "execution_count": 13,
   "metadata": {},
   "outputs": [],
   "source": [
    "from sklearn.cluster import KMeans\n",
    "from sklearn.decomposition import PCA\n",
    "from sklearn.preprocessing import StandardScaler\n",
    "from sklearn.model_selection import train_test_split"
   ]
  },
  {
   "cell_type": "code",
   "execution_count": 20,
   "metadata": {
    "scrolled": true
   },
   "outputs": [],
   "source": [
    "users_kms = users_dp.drop(['login_hash'],axis=1)"
   ]
  },
  {
   "cell_type": "code",
   "execution_count": 211,
   "metadata": {},
   "outputs": [
    {
     "data": {
      "text/plain": [
       "(666, 4)"
      ]
     },
     "execution_count": 211,
     "metadata": {},
     "output_type": "execute_result"
    }
   ],
   "source": [
    "users_kms.shape"
   ]
  },
  {
   "cell_type": "code",
   "execution_count": 267,
   "metadata": {},
   "outputs": [
    {
     "data": {
      "text/plain": [
       "server_hash     object\n",
       "country_hash    object\n",
       "currency        object\n",
       "enable           int64\n",
       "dtype: object"
      ]
     },
     "execution_count": 267,
     "metadata": {},
     "output_type": "execute_result"
    }
   ],
   "source": [
    "users_kms.dtypes"
   ]
  },
  {
   "cell_type": "code",
   "execution_count": 21,
   "metadata": {},
   "outputs": [],
   "source": [
    "users_dm = pd.get_dummies(users_kms[['server_hash','country_hash','currency']],drop_first=True)"
   ]
  },
  {
   "cell_type": "code",
   "execution_count": 214,
   "metadata": {},
   "outputs": [
    {
     "data": {
      "text/html": [
       "<div>\n",
       "<style scoped>\n",
       "    .dataframe tbody tr th:only-of-type {\n",
       "        vertical-align: middle;\n",
       "    }\n",
       "\n",
       "    .dataframe tbody tr th {\n",
       "        vertical-align: top;\n",
       "    }\n",
       "\n",
       "    .dataframe thead th {\n",
       "        text-align: right;\n",
       "    }\n",
       "</style>\n",
       "<table border=\"1\" class=\"dataframe\">\n",
       "  <thead>\n",
       "    <tr style=\"text-align: right;\">\n",
       "      <th></th>\n",
       "      <th>server_hash_54203B42716FE7C40138AE6C4913EBBC</th>\n",
       "      <th>server_hash_76791A893BDB9A68E8EE44898D581A60</th>\n",
       "      <th>country_hash_06C7A3C3A3344A62864B951AEC4DF830</th>\n",
       "      <th>country_hash_103357E3E40A9C0E4E9D36110F7BBC7A</th>\n",
       "      <th>country_hash_221CDFB73049678E244380B45872CBB2</th>\n",
       "      <th>country_hash_3F0E49C46CBDE0C7ADF5EA04A97AB261</th>\n",
       "      <th>country_hash_4442E4AF0916F53A07FB8CA9A49B98ED</th>\n",
       "      <th>country_hash_458E4CBC78201C1AEC5FC53A31C59378</th>\n",
       "      <th>country_hash_4A2581E346483DA488A11C4B2D2DE97E</th>\n",
       "      <th>country_hash_551FE18EF47D4E6E9D943B9A68ADA21D</th>\n",
       "      <th>...</th>\n",
       "      <th>country_hash_907EBA32D950BFAB68227FD7EA22999B</th>\n",
       "      <th>country_hash_A67D4CBDD1B59E0FFCCC6BAFC83EB033</th>\n",
       "      <th>country_hash_A8F809C99C4A996780C3046B9B594195</th>\n",
       "      <th>country_hash_AE54A5C026F31ADA088992587D92CB3A</th>\n",
       "      <th>country_hash_C51ED580EA5E20C910D951F692512B4D</th>\n",
       "      <th>country_hash_D1937220A4F6A24A5A9BAF2978211F98</th>\n",
       "      <th>country_hash_FDEF6DAA799E80DBCE1B561577B21181</th>\n",
       "      <th>currency_EUR</th>\n",
       "      <th>currency_NZD</th>\n",
       "      <th>currency_USD</th>\n",
       "    </tr>\n",
       "  </thead>\n",
       "  <tbody>\n",
       "    <tr>\n",
       "      <th>0</th>\n",
       "      <td>0</td>\n",
       "      <td>1</td>\n",
       "      <td>0</td>\n",
       "      <td>0</td>\n",
       "      <td>0</td>\n",
       "      <td>0</td>\n",
       "      <td>0</td>\n",
       "      <td>0</td>\n",
       "      <td>0</td>\n",
       "      <td>0</td>\n",
       "      <td>...</td>\n",
       "      <td>0</td>\n",
       "      <td>0</td>\n",
       "      <td>0</td>\n",
       "      <td>1</td>\n",
       "      <td>0</td>\n",
       "      <td>0</td>\n",
       "      <td>0</td>\n",
       "      <td>0</td>\n",
       "      <td>0</td>\n",
       "      <td>1</td>\n",
       "    </tr>\n",
       "    <tr>\n",
       "      <th>1</th>\n",
       "      <td>0</td>\n",
       "      <td>1</td>\n",
       "      <td>0</td>\n",
       "      <td>0</td>\n",
       "      <td>0</td>\n",
       "      <td>0</td>\n",
       "      <td>0</td>\n",
       "      <td>0</td>\n",
       "      <td>0</td>\n",
       "      <td>0</td>\n",
       "      <td>...</td>\n",
       "      <td>0</td>\n",
       "      <td>0</td>\n",
       "      <td>0</td>\n",
       "      <td>1</td>\n",
       "      <td>0</td>\n",
       "      <td>0</td>\n",
       "      <td>0</td>\n",
       "      <td>0</td>\n",
       "      <td>0</td>\n",
       "      <td>1</td>\n",
       "    </tr>\n",
       "    <tr>\n",
       "      <th>2</th>\n",
       "      <td>0</td>\n",
       "      <td>1</td>\n",
       "      <td>0</td>\n",
       "      <td>0</td>\n",
       "      <td>0</td>\n",
       "      <td>0</td>\n",
       "      <td>0</td>\n",
       "      <td>0</td>\n",
       "      <td>0</td>\n",
       "      <td>0</td>\n",
       "      <td>...</td>\n",
       "      <td>0</td>\n",
       "      <td>0</td>\n",
       "      <td>0</td>\n",
       "      <td>1</td>\n",
       "      <td>0</td>\n",
       "      <td>0</td>\n",
       "      <td>0</td>\n",
       "      <td>0</td>\n",
       "      <td>0</td>\n",
       "      <td>1</td>\n",
       "    </tr>\n",
       "    <tr>\n",
       "      <th>3</th>\n",
       "      <td>0</td>\n",
       "      <td>1</td>\n",
       "      <td>0</td>\n",
       "      <td>1</td>\n",
       "      <td>0</td>\n",
       "      <td>0</td>\n",
       "      <td>0</td>\n",
       "      <td>0</td>\n",
       "      <td>0</td>\n",
       "      <td>0</td>\n",
       "      <td>...</td>\n",
       "      <td>0</td>\n",
       "      <td>0</td>\n",
       "      <td>0</td>\n",
       "      <td>0</td>\n",
       "      <td>0</td>\n",
       "      <td>0</td>\n",
       "      <td>0</td>\n",
       "      <td>0</td>\n",
       "      <td>0</td>\n",
       "      <td>1</td>\n",
       "    </tr>\n",
       "    <tr>\n",
       "      <th>4</th>\n",
       "      <td>0</td>\n",
       "      <td>1</td>\n",
       "      <td>0</td>\n",
       "      <td>0</td>\n",
       "      <td>0</td>\n",
       "      <td>0</td>\n",
       "      <td>0</td>\n",
       "      <td>0</td>\n",
       "      <td>0</td>\n",
       "      <td>0</td>\n",
       "      <td>...</td>\n",
       "      <td>0</td>\n",
       "      <td>0</td>\n",
       "      <td>0</td>\n",
       "      <td>1</td>\n",
       "      <td>0</td>\n",
       "      <td>0</td>\n",
       "      <td>0</td>\n",
       "      <td>0</td>\n",
       "      <td>0</td>\n",
       "      <td>1</td>\n",
       "    </tr>\n",
       "  </tbody>\n",
       "</table>\n",
       "<p>5 rows × 23 columns</p>\n",
       "</div>"
      ],
      "text/plain": [
       "   server_hash_54203B42716FE7C40138AE6C4913EBBC  \\\n",
       "0                                             0   \n",
       "1                                             0   \n",
       "2                                             0   \n",
       "3                                             0   \n",
       "4                                             0   \n",
       "\n",
       "   server_hash_76791A893BDB9A68E8EE44898D581A60  \\\n",
       "0                                             1   \n",
       "1                                             1   \n",
       "2                                             1   \n",
       "3                                             1   \n",
       "4                                             1   \n",
       "\n",
       "   country_hash_06C7A3C3A3344A62864B951AEC4DF830  \\\n",
       "0                                              0   \n",
       "1                                              0   \n",
       "2                                              0   \n",
       "3                                              0   \n",
       "4                                              0   \n",
       "\n",
       "   country_hash_103357E3E40A9C0E4E9D36110F7BBC7A  \\\n",
       "0                                              0   \n",
       "1                                              0   \n",
       "2                                              0   \n",
       "3                                              1   \n",
       "4                                              0   \n",
       "\n",
       "   country_hash_221CDFB73049678E244380B45872CBB2  \\\n",
       "0                                              0   \n",
       "1                                              0   \n",
       "2                                              0   \n",
       "3                                              0   \n",
       "4                                              0   \n",
       "\n",
       "   country_hash_3F0E49C46CBDE0C7ADF5EA04A97AB261  \\\n",
       "0                                              0   \n",
       "1                                              0   \n",
       "2                                              0   \n",
       "3                                              0   \n",
       "4                                              0   \n",
       "\n",
       "   country_hash_4442E4AF0916F53A07FB8CA9A49B98ED  \\\n",
       "0                                              0   \n",
       "1                                              0   \n",
       "2                                              0   \n",
       "3                                              0   \n",
       "4                                              0   \n",
       "\n",
       "   country_hash_458E4CBC78201C1AEC5FC53A31C59378  \\\n",
       "0                                              0   \n",
       "1                                              0   \n",
       "2                                              0   \n",
       "3                                              0   \n",
       "4                                              0   \n",
       "\n",
       "   country_hash_4A2581E346483DA488A11C4B2D2DE97E  \\\n",
       "0                                              0   \n",
       "1                                              0   \n",
       "2                                              0   \n",
       "3                                              0   \n",
       "4                                              0   \n",
       "\n",
       "   country_hash_551FE18EF47D4E6E9D943B9A68ADA21D      ...       \\\n",
       "0                                              0      ...        \n",
       "1                                              0      ...        \n",
       "2                                              0      ...        \n",
       "3                                              0      ...        \n",
       "4                                              0      ...        \n",
       "\n",
       "   country_hash_907EBA32D950BFAB68227FD7EA22999B  \\\n",
       "0                                              0   \n",
       "1                                              0   \n",
       "2                                              0   \n",
       "3                                              0   \n",
       "4                                              0   \n",
       "\n",
       "   country_hash_A67D4CBDD1B59E0FFCCC6BAFC83EB033  \\\n",
       "0                                              0   \n",
       "1                                              0   \n",
       "2                                              0   \n",
       "3                                              0   \n",
       "4                                              0   \n",
       "\n",
       "   country_hash_A8F809C99C4A996780C3046B9B594195  \\\n",
       "0                                              0   \n",
       "1                                              0   \n",
       "2                                              0   \n",
       "3                                              0   \n",
       "4                                              0   \n",
       "\n",
       "   country_hash_AE54A5C026F31ADA088992587D92CB3A  \\\n",
       "0                                              1   \n",
       "1                                              1   \n",
       "2                                              1   \n",
       "3                                              0   \n",
       "4                                              1   \n",
       "\n",
       "   country_hash_C51ED580EA5E20C910D951F692512B4D  \\\n",
       "0                                              0   \n",
       "1                                              0   \n",
       "2                                              0   \n",
       "3                                              0   \n",
       "4                                              0   \n",
       "\n",
       "   country_hash_D1937220A4F6A24A5A9BAF2978211F98  \\\n",
       "0                                              0   \n",
       "1                                              0   \n",
       "2                                              0   \n",
       "3                                              0   \n",
       "4                                              0   \n",
       "\n",
       "   country_hash_FDEF6DAA799E80DBCE1B561577B21181  currency_EUR  currency_NZD  \\\n",
       "0                                              0             0             0   \n",
       "1                                              0             0             0   \n",
       "2                                              0             0             0   \n",
       "3                                              0             0             0   \n",
       "4                                              0             0             0   \n",
       "\n",
       "   currency_USD  \n",
       "0             1  \n",
       "1             1  \n",
       "2             1  \n",
       "3             1  \n",
       "4             1  \n",
       "\n",
       "[5 rows x 23 columns]"
      ]
     },
     "execution_count": 214,
     "metadata": {},
     "output_type": "execute_result"
    }
   ],
   "source": [
    "users_dm.head()"
   ]
  },
  {
   "cell_type": "markdown",
   "metadata": {},
   "source": [
    "#### During the preprocessing session, for any distance based algo, we need to standardize the data to bring all attributes to the same scale"
   ]
  },
  {
   "cell_type": "code",
   "execution_count": 22,
   "metadata": {},
   "outputs": [],
   "source": [
    "X_train = users_dm.copy()"
   ]
  },
  {
   "cell_type": "code",
   "execution_count": 23,
   "metadata": {},
   "outputs": [
    {
     "data": {
      "text/plain": [
       "(666, 23)"
      ]
     },
     "execution_count": 23,
     "metadata": {},
     "output_type": "execute_result"
    }
   ],
   "source": [
    "X_train.shape"
   ]
  },
  {
   "cell_type": "code",
   "execution_count": 24,
   "metadata": {},
   "outputs": [],
   "source": [
    "std = StandardScaler()\n",
    "std.fit(X_train)\n",
    "X_train_std= std.transform(X_train)\n",
    "# X_test_std= std.transform(X_test)"
   ]
  },
  {
   "cell_type": "code",
   "execution_count": 333,
   "metadata": {},
   "outputs": [],
   "source": [
    "wss= {}\n",
    "for k in range(1, 100):\n",
    "    kmeans = KMeans(n_clusters=k, max_iter=1000).fit(X_train_std)\n",
    "    clusters = kmeans.labels_\n",
    "    wss[k] = kmeans.inertia_ # Inertia: Sum of squared distances of samples to their closest cluster center"
   ]
  },
  {
   "cell_type": "code",
   "execution_count": 334,
   "metadata": {
    "collapsed": true
   },
   "outputs": [
    {
     "data": {
      "text/plain": [
       "{1: 15318.0,\n",
       " 2: 13477.827403395288,\n",
       " 3: 12293.628827645518,\n",
       " 4: 11391.957588148209,\n",
       " 5: 10587.292983303822,\n",
       " 6: 9958.290402340657,\n",
       " 7: 9012.807506867073,\n",
       " 8: 8239.81551515434,\n",
       " 9: 7529.153177663384,\n",
       " 10: 6816.855984779539,\n",
       " 11: 6122.103893701676,\n",
       " 12: 5445.320658360093,\n",
       " 13: 4757.9993635427545,\n",
       " 14: 4081.793740704706,\n",
       " 15: 3407.6402735847355,\n",
       " 16: 2733.436623256408,\n",
       " 17: 2059.1821727130655,\n",
       " 18: 1389.0351473934174,\n",
       " 19: 802.7873933571434,\n",
       " 20: 355.07364759301413,\n",
       " 21: 164.8000663701411,\n",
       " 22: 111.78424242676562,\n",
       " 23: 81.02373783975904,\n",
       " 24: 66.52235070230633,\n",
       " 25: 53.01159696660791,\n",
       " 26: 39.290333903835766,\n",
       " 27: 29.425444694684266,\n",
       " 28: 19.97501324693738,\n",
       " 29: 12.08229010208753,\n",
       " 30: 5.867409900322084,\n",
       " 31: 2.4146986771190586,\n",
       " 32: 1.7802005551370383e-26,\n",
       " 33: 1.580632227625733e-27,\n",
       " 34: 1.580632227625733e-27,\n",
       " 35: 1.580632227625733e-27,\n",
       " 36: 1.580632227625733e-27,\n",
       " 37: 1.580632227625733e-27,\n",
       " 38: 1.580632227625733e-27,\n",
       " 39: 1.580632227625733e-27,\n",
       " 40: 1.5806309276230205e-27,\n",
       " 41: 1.5806309276230205e-27,\n",
       " 42: 1.5806309276230205e-27,\n",
       " 43: 1.5806309276230205e-27,\n",
       " 44: 1.5806309276230205e-27,\n",
       " 45: 1.5806309276230205e-27,\n",
       " 46: 1.5702493948507956e-27,\n",
       " 47: 1.570250694853508e-27,\n",
       " 48: 1.5702493948507956e-27,\n",
       " 49: 1.5702493948507956e-27,\n",
       " 50: 1.5702493948507956e-27,\n",
       " 51: 1.570250694853508e-27,\n",
       " 52: 1.5638815000826736e-27,\n",
       " 53: 1.5742630328548986e-27,\n",
       " 54: 1.5638815000826736e-27,\n",
       " 55: 1.5638815000826736e-27,\n",
       " 56: 1.5638815000826736e-27,\n",
       " 57: 1.5638815000826736e-27,\n",
       " 58: 1.5638815000826736e-27,\n",
       " 59: 1.5638815000826736e-27,\n",
       " 60: 1.5638815000826736e-27,\n",
       " 61: 1.5458259068540433e-27,\n",
       " 62: 1.5458259068540433e-27,\n",
       " 63: 1.5428019561001123e-27,\n",
       " 64: 1.5742619254451806e-27,\n",
       " 65: 1.5458247994443253e-27,\n",
       " 66: 1.5458247994443253e-27,\n",
       " 67: 1.5354432666721003e-27,\n",
       " 68: 1.5354432666721003e-27,\n",
       " 69: 1.5354432666721003e-27,\n",
       " 70: 1.5354432666721003e-27,\n",
       " 71: 1.5354432666721003e-27,\n",
       " 72: 1.5354432666721003e-27,\n",
       " 73: 1.5354432666721003e-27,\n",
       " 74: 4.573799543252888e-29,\n",
       " 75: 1.5354432666721003e-27,\n",
       " 76: 4.573799543252888e-29,\n",
       " 77: 1.5354432666721003e-27,\n",
       " 78: 1.5354432666721003e-27,\n",
       " 79: 4.573799543252888e-29,\n",
       " 80: 1.5354432666721003e-27,\n",
       " 81: 1.5354432666721003e-27,\n",
       " 82: 1.5354432666721003e-27,\n",
       " 83: 1.5354432666721003e-27,\n",
       " 84: 1.5354432666721003e-27,\n",
       " 85: 1.5354432666721003e-27,\n",
       " 86: 1.5354432666721003e-27,\n",
       " 87: 1.5354432666721003e-27,\n",
       " 88: 2.3254881854746728e-29,\n",
       " 89: 2.3254881854746728e-29,\n",
       " 90: 1.5129601530943182e-27,\n",
       " 91: 2.3254881854746728e-29,\n",
       " 92: 1.5129601530943182e-27,\n",
       " 93: 1.5129601530943182e-27,\n",
       " 94: 2.3254881854746728e-29,\n",
       " 95: 2.3254881854746728e-29,\n",
       " 96: 1.5129601530943182e-27,\n",
       " 97: 1.5129601530943182e-27,\n",
       " 98: 1.5129033863092073e-27,\n",
       " 99: 4.5681228647418067e-29}"
      ]
     },
     "execution_count": 334,
     "metadata": {},
     "output_type": "execute_result"
    }
   ],
   "source": [
    "wss"
   ]
  },
  {
   "cell_type": "code",
   "execution_count": 335,
   "metadata": {},
   "outputs": [
    {
     "data": {
      "image/png": "[encoded data removed]",
      "text/plain": [
       "<Figure size 432x288 with 1 Axes>"
      ]
     },
     "metadata": {},
     "output_type": "display_data"
    }
   ],
   "source": [
    "plt.figure()\n",
    "plt.plot(list(wss.keys()), list(wss.values()))\n",
    "plt.xlabel(\"Number of cluster\")\n",
    "plt.ylabel(\"WSS\")\n",
    "plt.show()"
   ]
  },
  {
   "cell_type": "markdown",
   "metadata": {},
   "source": [
    "##### We can see clear elbow bend at 20, so taking optimum value of K as 20"
   ]
  },
  {
   "cell_type": "code",
   "execution_count": 25,
   "metadata": {},
   "outputs": [],
   "source": [
    "X_train_std=pd.DataFrame(X_train_std)"
   ]
  },
  {
   "cell_type": "code",
   "execution_count": 26,
   "metadata": {},
   "outputs": [
    {
     "name": "stdout",
     "output_type": "stream",
     "text": [
      "666\n"
     ]
    }
   ],
   "source": [
    "kmeans = KMeans(n_clusters=20)\n",
    "kmeans1 = kmeans.fit(X_train_std)\n",
    "print(len(kmeans1.labels_))\n",
    "X_train_std['clus']=kmeans1.labels_"
   ]
  },
  {
   "cell_type": "markdown",
   "metadata": {},
   "source": [
    "#### Checking for cluster stability"
   ]
  },
  {
   "cell_type": "code",
   "execution_count": 27,
   "metadata": {},
   "outputs": [],
   "source": [
    "from sklearn.metrics import adjusted_rand_score"
   ]
  },
  {
   "cell_type": "code",
   "execution_count": 28,
   "metadata": {},
   "outputs": [
    {
     "name": "stdout",
     "output_type": "stream",
     "text": [
      "Int64Index([239, 163, 300, 393, 230,  70,  61, 200, 582, 413,\n",
      "            ...\n",
      "            346, 354, 256, 340, 183, 574, 434, 334, 235, 311],\n",
      "           dtype='int64', length=599)\n"
     ]
    }
   ],
   "source": [
    "indices=X_train_std.sample(frac=0.9,random_state=1234).index\n",
    "print(indices)"
   ]
  },
  {
   "cell_type": "code",
   "execution_count": 29,
   "metadata": {},
   "outputs": [],
   "source": [
    "Alpha=X_train_std.drop(['clus'],axis=1).iloc[indices,:]"
   ]
  },
  {
   "cell_type": "code",
   "execution_count": 30,
   "metadata": {},
   "outputs": [
    {
     "data": {
      "text/plain": [
       "(599, 23)"
      ]
     },
     "execution_count": 30,
     "metadata": {},
     "output_type": "execute_result"
    }
   ],
   "source": [
    "Alpha.shape"
   ]
  },
  {
   "cell_type": "code",
   "execution_count": 31,
   "metadata": {},
   "outputs": [
    {
     "name": "stdout",
     "output_type": "stream",
     "text": [
      "599\n"
     ]
    }
   ],
   "source": [
    "kmeans = KMeans(n_clusters=20)\n",
    "kmeans2=kmeans.fit(Alpha)\n",
    "print(len(kmeans2.labels_))\n",
    "Alpha['clus']=kmeans2.labels_"
   ]
  },
  {
   "cell_type": "code",
   "execution_count": 32,
   "metadata": {},
   "outputs": [],
   "source": [
    "g1=X_train_std.loc[indices,'clus']\n",
    "g2=Alpha.clus"
   ]
  },
  {
   "cell_type": "code",
   "execution_count": 33,
   "metadata": {},
   "outputs": [
    {
     "data": {
      "text/plain": [
       "0.9612092895336984"
      ]
     },
     "execution_count": 33,
     "metadata": {},
     "output_type": "execute_result"
    }
   ],
   "source": [
    "adjusted_rand_score(g1,g2)"
   ]
  },
  {
   "cell_type": "markdown",
   "metadata": {},
   "source": [
    "#### Frequency of users assigned to each cluster "
   ]
  },
  {
   "cell_type": "code",
   "execution_count": 34,
   "metadata": {
    "collapsed": true
   },
   "outputs": [
    {
     "data": {
      "text/plain": [
       "1     477\n",
       "2      81\n",
       "0      31\n",
       "7      12\n",
       "8      10\n",
       "6      10\n",
       "19      9\n",
       "9       8\n",
       "4       7\n",
       "12      5\n",
       "10      2\n",
       "18      2\n",
       "13      2\n",
       "15      2\n",
       "3       2\n",
       "16      2\n",
       "11      1\n",
       "14      1\n",
       "5       1\n",
       "17      1\n",
       "Name: clus, dtype: int64"
      ]
     },
     "execution_count": 34,
     "metadata": {},
     "output_type": "execute_result"
    }
   ],
   "source": [
    "X_train_std['clus'].value_counts()"
   ]
  },
  {
   "cell_type": "code",
   "execution_count": 36,
   "metadata": {},
   "outputs": [
    {
     "data": {
      "text/plain": [
       "((666, 5), (666, 24))"
      ]
     },
     "execution_count": 36,
     "metadata": {},
     "output_type": "execute_result"
    }
   ],
   "source": [
    "users_dp.shape,X_train_std.shape"
   ]
  },
  {
   "cell_type": "code",
   "execution_count": 37,
   "metadata": {},
   "outputs": [],
   "source": [
    "users_dp_kms = users_dp.join(X_train_std[['clus']])"
   ]
  },
  {
   "cell_type": "code",
   "execution_count": 38,
   "metadata": {},
   "outputs": [
    {
     "data": {
      "text/html": [
       "<div>\n",
       "<style scoped>\n",
       "    .dataframe tbody tr th:only-of-type {\n",
       "        vertical-align: middle;\n",
       "    }\n",
       "\n",
       "    .dataframe tbody tr th {\n",
       "        vertical-align: top;\n",
       "    }\n",
       "\n",
       "    .dataframe thead th {\n",
       "        text-align: right;\n",
       "    }\n",
       "</style>\n",
       "<table border=\"1\" class=\"dataframe\">\n",
       "  <thead>\n",
       "    <tr style=\"text-align: right;\">\n",
       "      <th></th>\n",
       "      <th>login_hash</th>\n",
       "      <th>server_hash</th>\n",
       "      <th>country_hash</th>\n",
       "      <th>currency</th>\n",
       "      <th>enable</th>\n",
       "      <th>clus</th>\n",
       "    </tr>\n",
       "  </thead>\n",
       "  <tbody>\n",
       "    <tr>\n",
       "      <th>0</th>\n",
       "      <td>03A15F382AF3D505592CA69EFD4DC431</td>\n",
       "      <td>76791A893BDB9A68E8EE44898D581A60</td>\n",
       "      <td>AE54A5C026F31ADA088992587D92CB3A</td>\n",
       "      <td>USD</td>\n",
       "      <td>1</td>\n",
       "      <td>1.0</td>\n",
       "    </tr>\n",
       "    <tr>\n",
       "      <th>1</th>\n",
       "      <td>F8ADF5FF9840712CE2AF7FA9EA2A3FA7</td>\n",
       "      <td>76791A893BDB9A68E8EE44898D581A60</td>\n",
       "      <td>AE54A5C026F31ADA088992587D92CB3A</td>\n",
       "      <td>USD</td>\n",
       "      <td>1</td>\n",
       "      <td>1.0</td>\n",
       "    </tr>\n",
       "    <tr>\n",
       "      <th>2</th>\n",
       "      <td>B78CD788AB20A5D61CB13BD5389CABB3</td>\n",
       "      <td>76791A893BDB9A68E8EE44898D581A60</td>\n",
       "      <td>AE54A5C026F31ADA088992587D92CB3A</td>\n",
       "      <td>USD</td>\n",
       "      <td>1</td>\n",
       "      <td>1.0</td>\n",
       "    </tr>\n",
       "    <tr>\n",
       "      <th>3</th>\n",
       "      <td>DEFB729116227EF8582BFEC65F998489</td>\n",
       "      <td>76791A893BDB9A68E8EE44898D581A60</td>\n",
       "      <td>103357E3E40A9C0E4E9D36110F7BBC7A</td>\n",
       "      <td>USD</td>\n",
       "      <td>1</td>\n",
       "      <td>16.0</td>\n",
       "    </tr>\n",
       "    <tr>\n",
       "      <th>4</th>\n",
       "      <td>9EAD9A73AA6C93823C56BB8C2E798B45</td>\n",
       "      <td>76791A893BDB9A68E8EE44898D581A60</td>\n",
       "      <td>AE54A5C026F31ADA088992587D92CB3A</td>\n",
       "      <td>USD</td>\n",
       "      <td>1</td>\n",
       "      <td>1.0</td>\n",
       "    </tr>\n",
       "  </tbody>\n",
       "</table>\n",
       "</div>"
      ],
      "text/plain": [
       "                         login_hash                       server_hash  \\\n",
       "0  03A15F382AF3D505592CA69EFD4DC431  76791A893BDB9A68E8EE44898D581A60   \n",
       "1  F8ADF5FF9840712CE2AF7FA9EA2A3FA7  76791A893BDB9A68E8EE44898D581A60   \n",
       "2  B78CD788AB20A5D61CB13BD5389CABB3  76791A893BDB9A68E8EE44898D581A60   \n",
       "3  DEFB729116227EF8582BFEC65F998489  76791A893BDB9A68E8EE44898D581A60   \n",
       "4  9EAD9A73AA6C93823C56BB8C2E798B45  76791A893BDB9A68E8EE44898D581A60   \n",
       "\n",
       "                       country_hash currency  enable  clus  \n",
       "0  AE54A5C026F31ADA088992587D92CB3A      USD       1   1.0  \n",
       "1  AE54A5C026F31ADA088992587D92CB3A      USD       1   1.0  \n",
       "2  AE54A5C026F31ADA088992587D92CB3A      USD       1   1.0  \n",
       "3  103357E3E40A9C0E4E9D36110F7BBC7A      USD       1  16.0  \n",
       "4  AE54A5C026F31ADA088992587D92CB3A      USD       1   1.0  "
      ]
     },
     "execution_count": 38,
     "metadata": {},
     "output_type": "execute_result"
    }
   ],
   "source": [
    "users_dp_kms.head()"
   ]
  },
  {
   "cell_type": "code",
   "execution_count": 39,
   "metadata": {},
   "outputs": [],
   "source": [
    "users_clus = pd.DataFrame(users_dp_kms.groupby('clus')['login_hash'].count())\n",
    "users_clus.columns = ['Frequency']"
   ]
  },
  {
   "cell_type": "code",
   "execution_count": 40,
   "metadata": {},
   "outputs": [
    {
     "data": {
      "image/png": "[encoded data removed]",
      "text/plain": [
       "<Figure size 432x288 with 1 Axes>"
      ]
     },
     "metadata": {},
     "output_type": "display_data"
    }
   ],
   "source": [
    "users_clus.plot(kind='bar')\n",
    "plt.show()"
   ]
  },
  {
   "cell_type": "code",
   "execution_count": null,
   "metadata": {},
   "outputs": [],
   "source": []
  },
  {
   "cell_type": "code",
   "execution_count": null,
   "metadata": {},
   "outputs": [],
   "source": [
    "# ! pip install plotly"
   ]
  },
  {
   "cell_type": "code",
   "execution_count": 44,
   "metadata": {},
   "outputs": [],
   "source": [
    "# from mpl_toolkits.mplot3d import Axes3D"
   ]
  },
  {
   "cell_type": "code",
   "execution_count": 45,
   "metadata": {},
   "outputs": [],
   "source": [
    "##### The End ####"
   ]
  }
 ],
 "metadata": {
  "kernelspec": {
   "display_name": "Python 3",
   "language": "python",
   "name": "python3"
  }
 },
 "nbformat": 4,
 "nbformat_minor": 2
}
